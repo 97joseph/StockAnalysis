{
 "cells": [
  {
   "cell_type": "code",
   "execution_count": 1,
   "id": "cc756189",
   "metadata": {
    "execution": {
     "iopub.execute_input": "2022-07-01T02:04:34.904754Z",
     "iopub.status.busy": "2022-07-01T02:04:34.904356Z",
     "iopub.status.idle": "2022-07-01T02:04:35.265730Z",
     "shell.execute_reply": "2022-07-01T02:04:35.264663Z"
    },
    "papermill": {
     "duration": 0.377199,
     "end_time": "2022-07-01T02:04:35.268267",
     "exception": false,
     "start_time": "2022-07-01T02:04:34.891068",
     "status": "completed"
    },
    "tags": []
   },
   "outputs": [
    {
     "name": "stdout",
     "output_type": "stream",
     "text": [
      "Archive:  ../input/foursquare-utils-checkpoints-v4/pykakasi_deps.dontopenthiskaggle\r\n",
      "   creating: ./pykakasi_deps/\r\n",
      "  inflating: ./pykakasi_deps/offline_deprecated.tar.bz2  \r\n",
      "  inflating: ./pykakasi_deps/offline_jaconv.tar.bz2  \r\n",
      "  inflating: ./pykakasi_deps/offline_pykakasi.tar.bz2  \r\n"
     ]
    }
   ],
   "source": [
    "!unzip ../input/foursquare-utils-checkpoints-v4/pykakasi_deps.dontopenthiskaggle -d ."
   ]
  },
  {
   "cell_type": "code",
   "execution_count": 2,
   "id": "7f3f6358",
   "metadata": {
    "execution": {
     "iopub.execute_input": "2022-07-01T02:04:35.293688Z",
     "iopub.status.busy": "2022-07-01T02:04:35.293066Z",
     "iopub.status.idle": "2022-07-01T02:05:10.354458Z",
     "shell.execute_reply": "2022-07-01T02:05:10.353611Z"
    },
    "papermill": {
     "duration": 35.076701,
     "end_time": "2022-07-01T02:05:10.356929",
     "exception": false,
     "start_time": "2022-07-01T02:04:35.280228",
     "status": "completed"
    },
    "tags": []
   },
   "outputs": [
    {
     "name": "stdout",
     "output_type": "stream",
     "text": [
      "\r\n",
      "Downloading and Extracting Packages\r\n",
      "######################################################################## | 100% \r\n",
      "Preparing transaction: - \b\bdone\r\n",
      "Verifying transaction: | \b\bdone\r\n",
      "Executing transaction: - \b\bdone\r\n",
      "\r\n",
      "Downloading and Extracting Packages\r\n",
      "######################################################################## | 100% \r\n",
      "WARNING conda.core.prefix_data:_load_single_record(191): Ignoring malformed prefix record at: /opt/conda/conda-meta/offline_pykakasi.json\r\n",
      "Preparing transaction: - \b\bdone\r\n",
      "Verifying transaction: | \b\bdone\r\n",
      "Executing transaction: - \b\b\\ \b\b| \b\b/ \b\b- \b\b\\ \b\b| \b\b/ \b\b- \b\b\\ \b\bdone\r\n",
      "\r\n",
      "Downloading and Extracting Packages\r\n",
      "######################################################################## | 100% \r\n",
      "WARNING conda.core.prefix_data:_load_single_record(191): Ignoring malformed prefix record at: /opt/conda/conda-meta/offline_jaconv.json\r\n",
      "WARNING conda.core.prefix_data:_load_single_record(191): Ignoring malformed prefix record at: /opt/conda/conda-meta/offline_pykakasi.json\r\n",
      "Preparing transaction: - \b\bdone\r\n",
      "Verifying transaction: | \b\bdone\r\n",
      "Executing transaction: - \b\b\\ \b\b| \b\b/ \b\b- \b\b\\ \b\b| \b\b/ \b\b- \b\b\\ \b\bdone\r\n"
     ]
    }
   ],
   "source": [
    "!conda install ./pykakasi_deps/offline_pykakasi.tar.bz2\n",
    "!conda install ./pykakasi_deps/offline_jaconv.tar.bz2\n",
    "!conda install ./pykakasi_deps/offline_deprecated.tar.bz2"
   ]
  },
  {
   "cell_type": "code",
   "execution_count": 3,
   "id": "8d0fa7d3",
   "metadata": {
    "execution": {
     "iopub.execute_input": "2022-07-01T02:05:10.386476Z",
     "iopub.status.busy": "2022-07-01T02:05:10.386123Z",
     "iopub.status.idle": "2022-07-01T02:05:10.391404Z",
     "shell.execute_reply": "2022-07-01T02:05:10.390175Z"
    },
    "papermill": {
     "duration": 0.022483,
     "end_time": "2022-07-01T02:05:10.393475",
     "exception": false,
     "start_time": "2022-07-01T02:05:10.370992",
     "status": "completed"
    },
    "tags": []
   },
   "outputs": [],
   "source": [
    "UTIL_PATH = \"../input/foursquare-utils-checkpoints-v4\"\n",
    "DF_PATH = \"../input/foursquare-location-matching/test.csv\"\n",
    "SUB_PATH = \"../input/foursquare-location-matching/sample_submission.csv\""
   ]
  },
  {
   "cell_type": "code",
   "execution_count": 4,
   "id": "f8d93c00",
   "metadata": {
    "execution": {
     "iopub.execute_input": "2022-07-01T02:05:10.413125Z",
     "iopub.status.busy": "2022-07-01T02:05:10.412162Z",
     "iopub.status.idle": "2022-07-01T02:05:12.943848Z",
     "shell.execute_reply": "2022-07-01T02:05:12.943193Z"
    },
    "papermill": {
     "duration": 2.54396,
     "end_time": "2022-07-01T02:05:12.946280",
     "exception": false,
     "start_time": "2022-07-01T02:05:10.402320",
     "status": "completed"
    },
    "tags": []
   },
   "outputs": [
    {
     "name": "stderr",
     "output_type": "stream",
     "text": [
      "Intel(R) Extension for Scikit-learn* enabled (https://github.com/intel/scikit-learn-intelex)\n"
     ]
    }
   ],
   "source": [
    "from sklearnex import patch_sklearn\n",
    "\n",
    "patch_sklearn()\n",
    "\n",
    "from sklearn.neighbors import NearestNeighbors, BallTree\n",
    "from sklearn.feature_extraction.text import TfidfVectorizer\n",
    "\n",
    "import pandas as pd\n",
    "import numpy as np\n",
    "import cython\n",
    "\n",
    "import Levenshtein\n",
    "import difflib\n",
    "from tqdm.notebook import tqdm\n",
    "\n",
    "tqdm.pandas()\n",
    "\n",
    "import gc\n",
    "import multiprocessing\n",
    "\n",
    "import pykakasi\n",
    "\n",
    "import sys\n",
    "sys.path.insert(0, UTIL_PATH) \n",
    "\n",
    "from catboost import CatBoostClassifier"
   ]
  },
  {
   "cell_type": "markdown",
   "id": "d2620b04",
   "metadata": {
    "papermill": {
     "duration": 0.013295,
     "end_time": "2022-07-01T02:05:12.973859",
     "exception": false,
     "start_time": "2022-07-01T02:05:12.960564",
     "status": "completed"
    },
    "tags": []
   },
   "source": [
    "## Extracting Nearest Neighbors"
   ]
  },
  {
   "cell_type": "code",
   "execution_count": 5,
   "id": "6967873c",
   "metadata": {
    "execution": {
     "iopub.execute_input": "2022-07-01T02:05:13.003855Z",
     "iopub.status.busy": "2022-07-01T02:05:13.003097Z",
     "iopub.status.idle": "2022-07-01T02:05:13.010669Z",
     "shell.execute_reply": "2022-07-01T02:05:13.009687Z"
    },
    "papermill": {
     "duration": 0.025271,
     "end_time": "2022-07-01T02:05:13.012910",
     "exception": false,
     "start_time": "2022-07-01T02:05:12.987639",
     "status": "completed"
    },
    "tags": []
   },
   "outputs": [],
   "source": [
    "def calc_dists_and_indices(df: pd.DataFrame,\n",
    "                           N: int,\n",
    "                           cols: list) -> (np.ndarray, np.ndarray):\n",
    "    \n",
    "    df[cols] = np.deg2rad(df[cols])\n",
    "    matcher = NearestNeighbors(n_neighbors=N,\n",
    "                               metric=\"haversine\",\n",
    "                               n_jobs=-1)\n",
    "    matcher.fit(df.loc[:, cols])\n",
    "    distances, indices = matcher.kneighbors(df.loc[:, cols])\n",
    "\n",
    "    return distances, indices"
   ]
  },
  {
   "cell_type": "code",
   "execution_count": 6,
   "id": "6f086c91",
   "metadata": {
    "execution": {
     "iopub.execute_input": "2022-07-01T02:05:13.042732Z",
     "iopub.status.busy": "2022-07-01T02:05:13.042342Z",
     "iopub.status.idle": "2022-07-01T02:05:13.196320Z",
     "shell.execute_reply": "2022-07-01T02:05:13.195147Z"
    },
    "papermill": {
     "duration": 0.171743,
     "end_time": "2022-07-01T02:05:13.198684",
     "exception": false,
     "start_time": "2022-07-01T02:05:13.026941",
     "status": "completed"
    },
    "tags": []
   },
   "outputs": [],
   "source": [
    "df = pd.read_csv(DF_PATH).reset_index()\n",
    "coo_cols = [\"latitude\", \"longitude\"]\n",
    "\n",
    "N = 12 if len(df)>30000 else 2\n",
    "\n",
    "distances, indices = calc_dists_and_indices(df=df,\n",
    "                                            N=N,\n",
    "                                            cols=coo_cols)"
   ]
  },
  {
   "cell_type": "markdown",
   "id": "399000c9",
   "metadata": {
    "papermill": {
     "duration": 0.013668,
     "end_time": "2022-07-01T02:05:13.226492",
     "exception": false,
     "start_time": "2022-07-01T02:05:13.212824",
     "status": "completed"
    },
    "tags": []
   },
   "source": [
    "## Alphabet Conversion"
   ]
  },
  {
   "cell_type": "code",
   "execution_count": 7,
   "id": "801328b7",
   "metadata": {
    "execution": {
     "iopub.execute_input": "2022-07-01T02:05:13.256211Z",
     "iopub.status.busy": "2022-07-01T02:05:13.255813Z",
     "iopub.status.idle": "2022-07-01T02:05:13.264950Z",
     "shell.execute_reply": "2022-07-01T02:05:13.263879Z"
    },
    "papermill": {
     "duration": 0.027252,
     "end_time": "2022-07-01T02:05:13.267278",
     "exception": false,
     "start_time": "2022-07-01T02:05:13.240026",
     "status": "completed"
    },
    "tags": []
   },
   "outputs": [],
   "source": [
    "def convert_japanese_alphabet(df: pd.DataFrame):\n",
    "    kakasi = pykakasi.kakasi()\n",
    "    kakasi.setMode('H', 'a')  # Convert Hiragana into alphabet\n",
    "    kakasi.setMode('K', 'a')  # Convert Katakana into alphabet\n",
    "    kakasi.setMode('J', 'a')  # Convert Kanji into alphabet\n",
    "    conversion = kakasi.getConverter()\n",
    "\n",
    "    def convert(row):\n",
    "        for column in [\"name\", \"address\", \"city\", \"state\"]:\n",
    "            try:\n",
    "                row[column] = conversion.do(row[column])\n",
    "            except:\n",
    "                pass\n",
    "        return row\n",
    "\n",
    "    df[df[\"country\"] == \"JP\"] = df[df[\"country\"] == \"JP\"].progress_apply(convert, axis=1)\n",
    "    return df"
   ]
  },
  {
   "cell_type": "code",
   "execution_count": 8,
   "id": "5bbc1721",
   "metadata": {
    "execution": {
     "iopub.execute_input": "2022-07-01T02:05:13.296892Z",
     "iopub.status.busy": "2022-07-01T02:05:13.296592Z",
     "iopub.status.idle": "2022-07-01T02:05:13.885203Z",
     "shell.execute_reply": "2022-07-01T02:05:13.884182Z"
    },
    "papermill": {
     "duration": 0.605416,
     "end_time": "2022-07-01T02:05:13.886932",
     "exception": false,
     "start_time": "2022-07-01T02:05:13.281516",
     "status": "completed"
    },
    "tags": []
   },
   "outputs": [
    {
     "name": "stderr",
     "output_type": "stream",
     "text": [
      "/opt/conda/lib/python3.7/site-packages/ipykernel_launcher.py:3: DeprecationWarning: Call to deprecated method setMode. (Old API will be removed in v3.0.) -- Deprecated since version 2.1.\n",
      "  This is separate from the ipykernel package so we can avoid doing imports until\n",
      "/opt/conda/lib/python3.7/site-packages/ipykernel_launcher.py:4: DeprecationWarning: Call to deprecated method setMode. (Old API will be removed in v3.0.) -- Deprecated since version 2.1.\n",
      "  after removing the cwd from sys.path.\n",
      "/opt/conda/lib/python3.7/site-packages/ipykernel_launcher.py:5: DeprecationWarning: Call to deprecated method setMode. (Old API will be removed in v3.0.) -- Deprecated since version 2.1.\n",
      "  \"\"\"\n",
      "/opt/conda/lib/python3.7/site-packages/ipykernel_launcher.py:6: DeprecationWarning: Call to deprecated method getConverter. (Old API will be removed in v3.0.) -- Deprecated since version 2.1.\n",
      "  \n"
     ]
    },
    {
     "data": {
      "application/vnd.jupyter.widget-view+json": {
       "model_id": "f51deb8245b148bda8f25f5786899d00",
       "version_major": 2,
       "version_minor": 0
      },
      "text/plain": [
       "0it [00:00, ?it/s]"
      ]
     },
     "metadata": {},
     "output_type": "display_data"
    }
   ],
   "source": [
    "df = convert_japanese_alphabet(df)"
   ]
  },
  {
   "cell_type": "markdown",
   "id": "ac7ae73c",
   "metadata": {
    "papermill": {
     "duration": 0.008556,
     "end_time": "2022-07-01T02:05:13.904429",
     "exception": false,
     "start_time": "2022-07-01T02:05:13.895873",
     "status": "completed"
    },
    "tags": []
   },
   "source": [
    "## Extracting Essential Similarities"
   ]
  },
  {
   "cell_type": "code",
   "execution_count": 9,
   "id": "3d1f1bc2",
   "metadata": {
    "execution": {
     "iopub.execute_input": "2022-07-01T02:05:13.923701Z",
     "iopub.status.busy": "2022-07-01T02:05:13.923106Z",
     "iopub.status.idle": "2022-07-01T02:05:13.931998Z",
     "shell.execute_reply": "2022-07-01T02:05:13.931298Z"
    },
    "papermill": {
     "duration": 0.020891,
     "end_time": "2022-07-01T02:05:13.933846",
     "exception": false,
     "start_time": "2022-07-01T02:05:13.912955",
     "status": "completed"
    },
    "tags": []
   },
   "outputs": [],
   "source": [
    "def textcol_tfidf(df: pd.DataFrame,\n",
    "                  cols: list) -> np.ndarray:\n",
    "    V = dict()\n",
    "    for col in cols:\n",
    "        tfidf = TfidfVectorizer(ngram_range=(3, 3), analyzer=\"char_wb\", use_idf=False)\n",
    "        V[col] = tfidf.fit_transform(df[col].astype(str).fillna(f\"no{col}\").values)\n",
    "        print(col, V[col].shape)\n",
    "    return V\n",
    "\n",
    "def cat_tfidf(df: pd.DataFrame) -> np.ndarray:\n",
    "    tfidf = TfidfVectorizer(use_idf=False)\n",
    "    V_cat = tfidf.fit_transform(df[\"categories\"].fillna(\"nocategory\").values)\n",
    "    print(\"categories\", V_cat.shape)\n",
    "    return V_cat\n"
   ]
  },
  {
   "cell_type": "code",
   "execution_count": 10,
   "id": "2b14f1ef",
   "metadata": {
    "execution": {
     "iopub.execute_input": "2022-07-01T02:05:13.953498Z",
     "iopub.status.busy": "2022-07-01T02:05:13.952877Z",
     "iopub.status.idle": "2022-07-01T02:05:13.970906Z",
     "shell.execute_reply": "2022-07-01T02:05:13.970279Z"
    },
    "papermill": {
     "duration": 0.030684,
     "end_time": "2022-07-01T02:05:13.973275",
     "exception": false,
     "start_time": "2022-07-01T02:05:13.942591",
     "status": "completed"
    },
    "tags": []
   },
   "outputs": [],
   "source": [
    "def calc_essential_feats(df: pd.DataFrame,\n",
    "                         indices,\n",
    "                         distances,\n",
    "                         textcol_tfidf,\n",
    "                         cat_tfidf,\n",
    "                         train_mode=True):\n",
    "    dfs = []\n",
    "\n",
    "    for i in tqdm(range(indices.shape[1])):\n",
    "        tmp_df = df[[\"id\"]].copy()\n",
    "\n",
    "        tmp_df[\"dist\"] = distances[:, i]\n",
    "        tmp_df[\"cat_sim\"] = cat_tfidf.multiply(cat_tfidf[indices[:, i]]).sum(axis=1).A1\n",
    "        for col in [\"name\", \"address\", \"url\", \"phone\"]:\n",
    "            tmp_df[f\"{col}_sim\"] = textcol_tfidf[col].multiply(textcol_tfidf[col][indices[:, i]]).sum(axis=1).A1\n",
    "\n",
    "        tmp_df[\"match_id\"] = df[\"id\"].values[indices[:, i]]\n",
    "\n",
    "        for col in [\"address\", \"url\", \"phone\", \"categories\"]:\n",
    "            tmp_df[f\"{col}_null\"] = df[col].isnull() * 1.0 + df[col].isnull().values[indices[:, i]]\n",
    "\n",
    "        if train_mode:\n",
    "            tmp_df[\"match\"] = df[\"point_of_interest\"] == df[\"point_of_interest\"].values[indices[:, i]]\n",
    "\n",
    "        dfs.append(tmp_df)\n",
    "\n",
    "    candidate_df = pd.concat(dfs)\n",
    "    candidate_df = candidate_df[candidate_df['id'] != candidate_df['match_id']]\n",
    "\n",
    "    candidate_df = pd.merge(candidate_df, df[['id',\n",
    "                                              'name',\n",
    "                                              'categories',\n",
    "                                              'phone',\n",
    "                                              'address']], on='id', how='left')\n",
    "\n",
    "    candidate_df = candidate_df.rename(columns={'id': 'id_x',\n",
    "                                                'name': 'name_x',\n",
    "                                                'categories': 'categories_x',\n",
    "                                                'phone': 'phone_x',\n",
    "                                                'address': 'address_x'})\n",
    "\n",
    "    candidate_df = pd.merge(candidate_df, df[['id',\n",
    "                                              'name',\n",
    "                                              'categories',\n",
    "                                              'phone',\n",
    "                                              'address']], left_on='match_id', right_on='id',\n",
    "                            how='left')\n",
    "    candidate_df = candidate_df.rename(columns={'match_id': 'id_y',\n",
    "                                                'name': 'name_y',\n",
    "                                                'categories': 'categories_y',\n",
    "                                                'phone': 'phone_y',\n",
    "                                                'address': 'address_y'})\n",
    "\n",
    "    candidate_df.drop(columns='id', axis=1, inplace=True)\n",
    "\n",
    "    ids = candidate_df['id_x']\n",
    "    match_ids = candidate_df['id_y']\n",
    "    candidate_df.drop(columns=['id_x', 'id_y'], axis=1, inplace=True)\n",
    "\n",
    "    return ids, match_ids, candidate_df"
   ]
  },
  {
   "cell_type": "code",
   "execution_count": 11,
   "id": "3471d856",
   "metadata": {
    "execution": {
     "iopub.execute_input": "2022-07-01T02:05:14.003493Z",
     "iopub.status.busy": "2022-07-01T02:05:14.003126Z",
     "iopub.status.idle": "2022-07-01T02:05:14.097502Z",
     "shell.execute_reply": "2022-07-01T02:05:14.096506Z"
    },
    "papermill": {
     "duration": 0.111821,
     "end_time": "2022-07-01T02:05:14.099521",
     "exception": false,
     "start_time": "2022-07-01T02:05:13.987700",
     "status": "completed"
    },
    "tags": []
   },
   "outputs": [
    {
     "name": "stdout",
     "output_type": "stream",
     "text": [
      "address (5, 51)\n",
      "url (5, 19)\n",
      "phone (5, 16)\n",
      "name (5, 73)\n",
      "categories (5, 5)\n"
     ]
    },
    {
     "data": {
      "application/vnd.jupyter.widget-view+json": {
       "model_id": "856f6ef812d8484bb622333f95f3c6cb",
       "version_major": 2,
       "version_minor": 0
      },
      "text/plain": [
       "  0%|          | 0/2 [00:00<?, ?it/s]"
      ]
     },
     "metadata": {},
     "output_type": "display_data"
    }
   ],
   "source": [
    "text_cols = [\"address\", \"url\", \"phone\", \"name\"]\n",
    "V_textcols = textcol_tfidf(df=df,\n",
    "                            cols=text_cols)\n",
    "\n",
    "V_cat = cat_tfidf(df=df)\n",
    "\n",
    "ids, match_ids, candidate_df = calc_essential_feats(df=df,\n",
    "                                                     indices=indices,\n",
    "                                                     distances=distances,\n",
    "                                                     textcol_tfidf=V_textcols,\n",
    "                                                     cat_tfidf=V_cat,\n",
    "                                                     train_mode=False)"
   ]
  },
  {
   "cell_type": "markdown",
   "id": "890d702b",
   "metadata": {
    "papermill": {
     "duration": 0.008751,
     "end_time": "2022-07-01T02:05:14.117864",
     "exception": false,
     "start_time": "2022-07-01T02:05:14.109113",
     "status": "completed"
    },
    "tags": []
   },
   "source": [
    "## Extracting Word Similarity Stats"
   ]
  },
  {
   "cell_type": "code",
   "execution_count": 12,
   "id": "f5ddc995",
   "metadata": {
    "execution": {
     "iopub.execute_input": "2022-07-01T02:05:14.137608Z",
     "iopub.status.busy": "2022-07-01T02:05:14.137204Z",
     "iopub.status.idle": "2022-07-01T02:05:14.151850Z",
     "shell.execute_reply": "2022-07-01T02:05:14.151191Z"
    },
    "papermill": {
     "duration": 0.02711,
     "end_time": "2022-07-01T02:05:14.153756",
     "exception": false,
     "start_time": "2022-07-01T02:05:14.126646",
     "status": "completed"
    },
    "tags": []
   },
   "outputs": [],
   "source": [
    "def reduce_memory(df):\n",
    "    for col in df.columns:\n",
    "        col_type = df[col].dtypes\n",
    "        if col_type != object:\n",
    "            cmin = df[col].min()\n",
    "            cmax = df[col].max()\n",
    "            if str(col_type)[:3] == 'int':\n",
    "                if cmin > np.iinfo(np.int8).min and cmax < np.iinfo(np.int8).max:\n",
    "                    df[col] = df[col].astype(np.int8)\n",
    "                elif cmin > np.iinfo(np.int16).min and cmax < np.iinfo(np.int16).max:\n",
    "                    df[col] = df[col].astype(np.int16)\n",
    "                elif cmin > np.iinfo(np.int32).min and cmax < np.iinfo(np.int32).max:\n",
    "                    df[col] = df[col].astype(np.int32)\n",
    "                elif cmin > np.iinfo(np.int64).min and cmax < np.iinfo(np.int64).max:\n",
    "                    df[col] = df[col].astype(np.int64)\n",
    "            else:\n",
    "                if cmin > np.finfo(np.float16).min and cmax < np.finfo(np.float16).max:\n",
    "                    df[col] = df[col].astype(np.float16)\n",
    "                elif cmin > np.finfo(np.float32).min and cmax < np.finfo(np.float32).max:\n",
    "                    df[col] = df[col].astype(np.float32)\n",
    "                else:\n",
    "                    df[col] = df[col].astype(np.float64)\n",
    "    return df"
   ]
  },
  {
   "cell_type": "code",
   "execution_count": 13,
   "id": "5a662b1a",
   "metadata": {
    "execution": {
     "iopub.execute_input": "2022-07-01T02:05:14.184560Z",
     "iopub.status.busy": "2022-07-01T02:05:14.184207Z",
     "iopub.status.idle": "2022-07-01T02:05:14.197896Z",
     "shell.execute_reply": "2022-07-01T02:05:14.197312Z"
    },
    "papermill": {
     "duration": 0.031136,
     "end_time": "2022-07-01T02:05:14.199810",
     "exception": false,
     "start_time": "2022-07-01T02:05:14.168674",
     "status": "completed"
    },
    "tags": []
   },
   "outputs": [],
   "source": [
    "def categorical_similarity(A, B):\n",
    "    if not A or not B:\n",
    "        return -1\n",
    "\n",
    "    A = set(str(A).split(\", \"))\n",
    "    B = set(str(B).split(\", \"))\n",
    "\n",
    "    # Find intersection of two sets\n",
    "    nominator = A.intersection(B)\n",
    "\n",
    "    similarity_1 = len(nominator) / len(A)\n",
    "    similarity_2 = len(nominator) / len(B)\n",
    "\n",
    "    return max(similarity_1, similarity_2)\n",
    "\n",
    "\n",
    "@cython.cfunc\n",
    "def LCS(S: str, T: str):\n",
    "    i: cython.int\n",
    "    j: cython.int\n",
    "    dp: cython.list = [[0] * (len(T) + 1) for _ in range(len(S) + 1)]\n",
    "    for i in range(len(S)):\n",
    "        for j in range(len(T)):\n",
    "            dp[i + 1][j + 1] = max(dp[i][j] + (S[i] == T[j]), dp[i + 1][j], dp[i][j + 1], dp[i + 1][j + 1])\n",
    "    return dp[len(S)][len(T)]\n",
    "\n",
    "\n",
    "def string_operation(s1, s2, op=\"seq_matcher\"):\n",
    "    if s1 and s2:\n",
    "        if op == \"seq_matcher\":\n",
    "            return difflib.SequenceMatcher(None, s1, s2).ratio()\n",
    "        elif op == \"lev_distance\":\n",
    "            return Levenshtein.distance(s1, s2)\n",
    "        elif op == \"jaro_winkler\":\n",
    "            return Levenshtein.jaro_winkler(s1, s2)\n",
    "        elif op == \"lcs\":\n",
    "            return LCS(str(s1), str(s2))\n",
    "    else:\n",
    "        return -1"
   ]
  },
  {
   "cell_type": "code",
   "execution_count": 14,
   "id": "18f2f936",
   "metadata": {
    "execution": {
     "iopub.execute_input": "2022-07-01T02:05:14.230723Z",
     "iopub.status.busy": "2022-07-01T02:05:14.230180Z",
     "iopub.status.idle": "2022-07-01T02:05:14.253881Z",
     "shell.execute_reply": "2022-07-01T02:05:14.253216Z"
    },
    "papermill": {
     "duration": 0.041968,
     "end_time": "2022-07-01T02:05:14.256330",
     "exception": false,
     "start_time": "2022-07-01T02:05:14.214362",
     "status": "completed"
    },
    "tags": []
   },
   "outputs": [],
   "source": [
    "def _add_distance_features(args):\n",
    "    _, df = args\n",
    "\n",
    "    for c in [\"name\", \"categories\", \"phone\", \"address\"]:\n",
    "        df[c + \"_x\"] = df[c + \"_x\"].astype(str)\n",
    "        df[c + \"_y\"] = df[c + \"_y\"].astype(str)\n",
    "\n",
    "        df[f\"{c}_seqm\"] = df[[c + \"_x\", c + \"_y\"]].apply(lambda x: string_operation(x[c + \"_x\"], x[c + \"_y\"],\n",
    "                                                                                    op=\"seq_matcher\"),\n",
    "                                                         axis=1)\n",
    "        df[f\"{c}_leven\"] = df[[c + \"_x\", c + \"_y\"]].apply(lambda x: string_operation(x[c + \"_x\"], x[c + \"_y\"],\n",
    "                                                                                     op=\"lev_distance\"),\n",
    "                                                          axis=1)\n",
    "        df[f\"{c}_jaro\"] = df[[c + \"_x\", c + \"_y\"]].apply(lambda x: string_operation(x[c + \"_x\"], x[c + \"_y\"],\n",
    "                                                                                    op=\"jaro_winkler\"),\n",
    "                                                         axis=1)\n",
    "        df[f\"{c}_lcs\"] = df[[c + \"_x\", c + \"_y\"]].apply(lambda x: string_operation(x[c + \"_x\"], x[c + \"_y\"],\n",
    "                                                                                   op=\"lcs\"),\n",
    "                                                        axis=1)\n",
    "\n",
    "        df[f\"{c}_len\"] = df[f\"{c}_x\"].astype(str).map(len)\n",
    "        df[f\"{c}_len2\"] = df[f\"{c}_y\"].astype(str).map(len)\n",
    "        df[f'{c}_len_diff'] = np.abs(df[f\"{c}_len\"] - df[f\"{c}_len2\"])\n",
    "        df[f\"{c}_nleven\"] = df[f'{c}_leven'] / \\\n",
    "                            df[[f'{c}_len', f'{c}_len2']].max(axis=1)\n",
    "\n",
    "        df = df.drop(columns=f'{c}_len', axis=1)\n",
    "        df = df.drop(columns=f'{c}_len2', axis=1)\n",
    "\n",
    "    df[\"category_venn\"] = df[[\"categories_x\", \"categories_y\"]] \\\n",
    "        .progress_apply(lambda row: categorical_similarity(row.categories_x, row.categories_y),\n",
    "                        axis=1)\n",
    "\n",
    "    df = drop_unnecessary_cols(df, [\"name\", \"categories\", \"phone\", \"address\"])\n",
    "    gc_clear()\n",
    "\n",
    "    return df\n",
    "\n",
    "def add_distance_features(df):\n",
    "    processes = multiprocessing.cpu_count()\n",
    "    with multiprocessing.Pool(processes=processes) as pool:\n",
    "        df[\"idx_group\"] = df.index // (len(df) / 256)\n",
    "        len_df_gby = len(df.groupby('idx_group'))\n",
    "        dfs = pool.imap(_add_distance_features, df.groupby('idx_group'))\n",
    "        dfs = tqdm(dfs, total=len_df_gby)\n",
    "        dfs = list(dfs)\n",
    "    df = pd.concat(dfs)\n",
    "    df.drop(columns=\"idx_group\", axis=1, inplace=True)\n",
    "    del dfs\n",
    "    return df\n",
    "\n",
    "\n",
    "def drop_unnecessary_cols(df, PAIR_COLS):\n",
    "    for c in PAIR_COLS:\n",
    "        df.drop(columns=[c + \"_x\", c + \"_y\"], axis=1, inplace=True)\n",
    "    return df\n",
    "\n",
    "\n",
    "def extract_features(df):\n",
    "    df = add_distance_features(df)\n",
    "    gc_clear()\n",
    "    df = reduce_memory(df)\n",
    "    gc_clear()\n",
    "    return df.reset_index(drop=True)\n",
    "\n",
    "\n",
    "def gc_clear():\n",
    "    for i in range(5):\n",
    "        gc.collect()"
   ]
  },
  {
   "cell_type": "code",
   "execution_count": 15,
   "id": "edb20b54",
   "metadata": {
    "execution": {
     "iopub.execute_input": "2022-07-01T02:05:14.290454Z",
     "iopub.status.busy": "2022-07-01T02:05:14.289885Z",
     "iopub.status.idle": "2022-07-01T02:05:19.355075Z",
     "shell.execute_reply": "2022-07-01T02:05:19.354406Z"
    },
    "papermill": {
     "duration": 5.083955,
     "end_time": "2022-07-01T02:05:19.356850",
     "exception": false,
     "start_time": "2022-07-01T02:05:14.272895",
     "status": "completed"
    },
    "tags": []
   },
   "outputs": [
    {
     "data": {
      "application/vnd.jupyter.widget-view+json": {
       "model_id": "27e5ae737538460bbe9f04b63e0ecf66",
       "version_major": 2,
       "version_minor": 0
      },
      "text/plain": [
       "  0%|          | 0/5 [00:00<?, ?it/s]"
      ]
     },
     "metadata": {},
     "output_type": "display_data"
    }
   ],
   "source": [
    "candidate_df = extract_features(candidate_df)"
   ]
  },
  {
   "cell_type": "markdown",
   "id": "28fbcc3c",
   "metadata": {
    "papermill": {
     "duration": 0.009209,
     "end_time": "2022-07-01T02:05:19.375366",
     "exception": false,
     "start_time": "2022-07-01T02:05:19.366157",
     "status": "completed"
    },
    "tags": []
   },
   "source": [
    "## CV Prediction"
   ]
  },
  {
   "cell_type": "code",
   "execution_count": 16,
   "id": "9114f8c4",
   "metadata": {
    "execution": {
     "iopub.execute_input": "2022-07-01T02:05:19.395871Z",
     "iopub.status.busy": "2022-07-01T02:05:19.395084Z",
     "iopub.status.idle": "2022-07-01T02:05:42.766290Z",
     "shell.execute_reply": "2022-07-01T02:05:42.765223Z"
    },
    "papermill": {
     "duration": 23.383606,
     "end_time": "2022-07-01T02:05:42.768383",
     "exception": false,
     "start_time": "2022-07-01T02:05:19.384777",
     "status": "completed"
    },
    "tags": []
   },
   "outputs": [
    {
     "data": {
      "application/vnd.jupyter.widget-view+json": {
       "model_id": "0f99913192c84c9ba00c49a61c64c173",
       "version_major": 2,
       "version_minor": 0
      },
      "text/plain": [
       "  0%|          | 0/7 [00:00<?, ?it/s]"
      ]
     },
     "metadata": {},
     "output_type": "display_data"
    },
    {
     "data": {
      "text/plain": [
       "array([0.5  , 0.5  , 0.525, 0.5  , 0.5  , 0.5  , 0.5  ])"
      ]
     },
     "execution_count": 16,
     "metadata": {},
     "output_type": "execute_result"
    }
   ],
   "source": [
    "def pred_w_model(foldnum, df_x):\n",
    "    model = CatBoostClassifier()\n",
    "    model.load_model(UTIL_PATH+'/cb_fold_'+str(foldnum))\n",
    "    pred = model.predict_proba(df_x)[:,1]\n",
    "    del model\n",
    "    gc_clear()\n",
    "    return pred\n",
    "\n",
    "preds = [pred_w_model(i, candidate_df) for i in tqdm(range(7))] \n",
    "thresholds = np.load(UTIL_PATH+\"/fold_threshs.npy\")\n",
    "thresholds"
   ]
  },
  {
   "cell_type": "markdown",
   "id": "279b70f7",
   "metadata": {
    "papermill": {
     "duration": 0.014866,
     "end_time": "2022-07-01T02:05:42.798471",
     "exception": false,
     "start_time": "2022-07-01T02:05:42.783605",
     "status": "completed"
    },
    "tags": []
   },
   "source": [
    "## Voting with Threshold-Tuning"
   ]
  },
  {
   "cell_type": "code",
   "execution_count": 17,
   "id": "e58f4d9a",
   "metadata": {
    "execution": {
     "iopub.execute_input": "2022-07-01T02:05:42.830854Z",
     "iopub.status.busy": "2022-07-01T02:05:42.830503Z",
     "iopub.status.idle": "2022-07-01T02:05:42.837692Z",
     "shell.execute_reply": "2022-07-01T02:05:42.836865Z"
    },
    "papermill": {
     "duration": 0.025643,
     "end_time": "2022-07-01T02:05:42.839575",
     "exception": false,
     "start_time": "2022-07-01T02:05:42.813932",
     "status": "completed"
    },
    "tags": []
   },
   "outputs": [],
   "source": [
    "candidate_df[\"pred\"] = (\n",
    "    np.mean(\n",
    "        [\n",
    "            (preds[pred_i] >= thresholds[pred_i]).astype(int)\n",
    "            for pred_i, pred in enumerate(preds)\n",
    "        ],\n",
    "        axis=0,\n",
    "    )\n",
    "    >= 0.5\n",
    ").astype(int)\n",
    "candidate_df['ids']=ids\n",
    "candidate_df['match_id']=match_ids"
   ]
  },
  {
   "cell_type": "markdown",
   "id": "1e66d35e",
   "metadata": {
    "papermill": {
     "duration": 0.015004,
     "end_time": "2022-07-01T02:05:42.869820",
     "exception": false,
     "start_time": "2022-07-01T02:05:42.854816",
     "status": "completed"
    },
    "tags": []
   },
   "source": [
    "## Creating the submission"
   ]
  },
  {
   "cell_type": "code",
   "execution_count": 18,
   "id": "27bb315a",
   "metadata": {
    "execution": {
     "iopub.execute_input": "2022-07-01T02:05:42.905211Z",
     "iopub.status.busy": "2022-07-01T02:05:42.904865Z",
     "iopub.status.idle": "2022-07-01T02:05:42.913373Z",
     "shell.execute_reply": "2022-07-01T02:05:42.912410Z"
    },
    "papermill": {
     "duration": 0.030547,
     "end_time": "2022-07-01T02:05:42.915946",
     "exception": false,
     "start_time": "2022-07-01T02:05:42.885399",
     "status": "completed"
    },
    "tags": []
   },
   "outputs": [],
   "source": [
    "pred_match_mask = candidate_df.pred==1\n",
    "matches_list = dict([(ids, list(groupby_df.match_id.values)) for ids, groupby_df in candidate_df[pred_match_mask].groupby(\"ids\")])"
   ]
  },
  {
   "cell_type": "code",
   "execution_count": 19,
   "id": "72d51ed6",
   "metadata": {
    "execution": {
     "iopub.execute_input": "2022-07-01T02:05:42.948220Z",
     "iopub.status.busy": "2022-07-01T02:05:42.947840Z",
     "iopub.status.idle": "2022-07-01T02:05:42.958810Z",
     "shell.execute_reply": "2022-07-01T02:05:42.957867Z"
    },
    "papermill": {
     "duration": 0.029472,
     "end_time": "2022-07-01T02:05:42.961177",
     "exception": false,
     "start_time": "2022-07-01T02:05:42.931705",
     "status": "completed"
    },
    "tags": []
   },
   "outputs": [],
   "source": [
    "subm_df=pd.read_csv(SUB_PATH)\n",
    "subm_df[\"matches\"] = np.nan"
   ]
  },
  {
   "cell_type": "code",
   "execution_count": 20,
   "id": "e5005046",
   "metadata": {
    "execution": {
     "iopub.execute_input": "2022-07-01T02:05:42.993171Z",
     "iopub.status.busy": "2022-07-01T02:05:42.992764Z",
     "iopub.status.idle": "2022-07-01T02:05:43.034517Z",
     "shell.execute_reply": "2022-07-01T02:05:43.033355Z"
    },
    "papermill": {
     "duration": 0.063058,
     "end_time": "2022-07-01T02:05:43.039608",
     "exception": false,
     "start_time": "2022-07-01T02:05:42.976550",
     "status": "completed"
    },
    "tags": []
   },
   "outputs": [
    {
     "data": {
      "application/vnd.jupyter.widget-view+json": {
       "model_id": "85ea96629a2a4267af2a84ea3cb68ab1",
       "version_major": 2,
       "version_minor": 0
      },
      "text/plain": [
       "  0%|          | 0/5 [00:00<?, ?it/s]"
      ]
     },
     "metadata": {},
     "output_type": "display_data"
    }
   ],
   "source": [
    "def set_setter(selected_id):\n",
    "    try:\n",
    "        return \" \".join(matches_list[selected_id])\n",
    "    except:\n",
    "        return \"\"\n",
    "\n",
    "subm_df['matches'] = subm_df['id'].progress_apply(lambda x: set_setter(x))"
   ]
  },
  {
   "cell_type": "markdown",
   "id": "0fe5aa1f",
   "metadata": {
    "papermill": {
     "duration": 0.015127,
     "end_time": "2022-07-01T02:05:43.070531",
     "exception": false,
     "start_time": "2022-07-01T02:05:43.055404",
     "status": "completed"
    },
    "tags": []
   },
   "source": [
    "### Adding the self match"
   ]
  },
  {
   "cell_type": "code",
   "execution_count": 21,
   "id": "e14613b3",
   "metadata": {
    "execution": {
     "iopub.execute_input": "2022-07-01T02:05:43.103048Z",
     "iopub.status.busy": "2022-07-01T02:05:43.102718Z",
     "iopub.status.idle": "2022-07-01T02:05:43.108319Z",
     "shell.execute_reply": "2022-07-01T02:05:43.107403Z"
    },
    "papermill": {
     "duration": 0.024466,
     "end_time": "2022-07-01T02:05:43.110834",
     "exception": false,
     "start_time": "2022-07-01T02:05:43.086368",
     "status": "completed"
    },
    "tags": []
   },
   "outputs": [],
   "source": [
    "subm_df['matches'] = subm_df['id'] + \" \" + subm_df['matches']"
   ]
  },
  {
   "cell_type": "markdown",
   "id": "480b15ea",
   "metadata": {
    "papermill": {
     "duration": 0.015266,
     "end_time": "2022-07-01T02:05:43.141917",
     "exception": false,
     "start_time": "2022-07-01T02:05:43.126651",
     "status": "completed"
    },
    "tags": []
   },
   "source": [
    "### Post-Processing"
   ]
  },
  {
   "cell_type": "code",
   "execution_count": 22,
   "id": "9b0efee9",
   "metadata": {
    "execution": {
     "iopub.execute_input": "2022-07-01T02:05:43.175010Z",
     "iopub.status.busy": "2022-07-01T02:05:43.174624Z",
     "iopub.status.idle": "2022-07-01T02:05:43.182759Z",
     "shell.execute_reply": "2022-07-01T02:05:43.181814Z"
    },
    "papermill": {
     "duration": 0.027222,
     "end_time": "2022-07-01T02:05:43.185077",
     "exception": false,
     "start_time": "2022-07-01T02:05:43.157855",
     "status": "completed"
    },
    "tags": []
   },
   "outputs": [],
   "source": [
    "def post_process(df):\n",
    "    id2match = dict(zip(df['id'].values, df['matches'].str.split()))\n",
    "\n",
    "    for base, match in tqdm(df[['id', 'matches']].values):\n",
    "        match = match.split()\n",
    "        if len(match) == 1:        \n",
    "            continue\n",
    "\n",
    "        for m in match:\n",
    "            if base not in id2match[m]:\n",
    "                id2match[m].append(base)\n",
    "    df['matches'] = df['id'].map(id2match).map(' '.join)\n",
    "    return df "
   ]
  },
  {
   "cell_type": "code",
   "execution_count": 23,
   "id": "63818f30",
   "metadata": {
    "execution": {
     "iopub.execute_input": "2022-07-01T02:05:43.217624Z",
     "iopub.status.busy": "2022-07-01T02:05:43.217258Z",
     "iopub.status.idle": "2022-07-01T02:05:43.265282Z",
     "shell.execute_reply": "2022-07-01T02:05:43.264183Z"
    },
    "papermill": {
     "duration": 0.066597,
     "end_time": "2022-07-01T02:05:43.267336",
     "exception": false,
     "start_time": "2022-07-01T02:05:43.200739",
     "status": "completed"
    },
    "tags": []
   },
   "outputs": [
    {
     "data": {
      "application/vnd.jupyter.widget-view+json": {
       "model_id": "291dd5ea32b149a0b9a57dcdbe173642",
       "version_major": 2,
       "version_minor": 0
      },
      "text/plain": [
       "  0%|          | 0/5 [00:00<?, ?it/s]"
      ]
     },
     "metadata": {},
     "output_type": "display_data"
    }
   ],
   "source": [
    "subm_df = post_process(subm_df)"
   ]
  },
  {
   "cell_type": "markdown",
   "id": "47b50f9a",
   "metadata": {
    "papermill": {
     "duration": 0.015699,
     "end_time": "2022-07-01T02:05:43.299488",
     "exception": false,
     "start_time": "2022-07-01T02:05:43.283789",
     "status": "completed"
    },
    "tags": []
   },
   "source": [
    "## The submission"
   ]
  },
  {
   "cell_type": "code",
   "execution_count": 24,
   "id": "a0270844",
   "metadata": {
    "execution": {
     "iopub.execute_input": "2022-07-01T02:05:43.334093Z",
     "iopub.status.busy": "2022-07-01T02:05:43.333668Z",
     "iopub.status.idle": "2022-07-01T02:05:43.350405Z",
     "shell.execute_reply": "2022-07-01T02:05:43.348890Z"
    },
    "papermill": {
     "duration": 0.037158,
     "end_time": "2022-07-01T02:05:43.353000",
     "exception": false,
     "start_time": "2022-07-01T02:05:43.315842",
     "status": "completed"
    },
    "tags": []
   },
   "outputs": [
    {
     "data": {
      "text/html": [
       "<div>\n",
       "<style scoped>\n",
       "    .dataframe tbody tr th:only-of-type {\n",
       "        vertical-align: middle;\n",
       "    }\n",
       "\n",
       "    .dataframe tbody tr th {\n",
       "        vertical-align: top;\n",
       "    }\n",
       "\n",
       "    .dataframe thead th {\n",
       "        text-align: right;\n",
       "    }\n",
       "</style>\n",
       "<table border=\"1\" class=\"dataframe\">\n",
       "  <thead>\n",
       "    <tr style=\"text-align: right;\">\n",
       "      <th></th>\n",
       "      <th>id</th>\n",
       "      <th>matches</th>\n",
       "    </tr>\n",
       "  </thead>\n",
       "  <tbody>\n",
       "    <tr>\n",
       "      <th>0</th>\n",
       "      <td>E_00001118ad0191</td>\n",
       "      <td>E_00001118ad0191</td>\n",
       "    </tr>\n",
       "    <tr>\n",
       "      <th>1</th>\n",
       "      <td>E_000020eb6fed40</td>\n",
       "      <td>E_000020eb6fed40</td>\n",
       "    </tr>\n",
       "    <tr>\n",
       "      <th>2</th>\n",
       "      <td>E_00002f98667edf</td>\n",
       "      <td>E_00002f98667edf</td>\n",
       "    </tr>\n",
       "    <tr>\n",
       "      <th>3</th>\n",
       "      <td>E_001b6bad66eb98</td>\n",
       "      <td>E_001b6bad66eb98 E_0283d9f61e569d</td>\n",
       "    </tr>\n",
       "    <tr>\n",
       "      <th>4</th>\n",
       "      <td>E_0283d9f61e569d</td>\n",
       "      <td>E_0283d9f61e569d E_001b6bad66eb98</td>\n",
       "    </tr>\n",
       "  </tbody>\n",
       "</table>\n",
       "</div>"
      ],
      "text/plain": [
       "                 id                            matches\n",
       "0  E_00001118ad0191                   E_00001118ad0191\n",
       "1  E_000020eb6fed40                   E_000020eb6fed40\n",
       "2  E_00002f98667edf                   E_00002f98667edf\n",
       "3  E_001b6bad66eb98  E_001b6bad66eb98 E_0283d9f61e569d\n",
       "4  E_0283d9f61e569d  E_0283d9f61e569d E_001b6bad66eb98"
      ]
     },
     "execution_count": 24,
     "metadata": {},
     "output_type": "execute_result"
    }
   ],
   "source": [
    "subm_df"
   ]
  },
  {
   "cell_type": "code",
   "execution_count": 25,
   "id": "1a3d8c97",
   "metadata": {
    "execution": {
     "iopub.execute_input": "2022-07-01T02:05:43.387641Z",
     "iopub.status.busy": "2022-07-01T02:05:43.387255Z",
     "iopub.status.idle": "2022-07-01T02:05:43.395693Z",
     "shell.execute_reply": "2022-07-01T02:05:43.394857Z"
    },
    "papermill": {
     "duration": 0.028586,
     "end_time": "2022-07-01T02:05:43.397931",
     "exception": false,
     "start_time": "2022-07-01T02:05:43.369345",
     "status": "completed"
    },
    "tags": []
   },
   "outputs": [],
   "source": [
    "subm_df.to_csv(\"submission.csv\", index=False)"
   ]
  }
 ],
 "metadata": {
  "kernelspec": {
   "display_name": "Python 3",
   "language": "python",
   "name": "python3"
  },
  "language_info": {
   "codemirror_mode": {
    "name": "ipython",
    "version": 3
   },
   "file_extension": ".py",
   "mimetype": "text/x-python",
   "name": "python",
   "nbconvert_exporter": "python",
   "pygments_lexer": "ipython3",
   "version": "3.7.12"
  },
  "papermill": {
   "default_parameters": {},
   "duration": 81.776109,
   "end_time": "2022-07-01T02:05:45.830295",
   "environment_variables": {},
   "exception": null,
   "input_path": "__notebook__.ipynb",
   "output_path": "__notebook__.ipynb",
   "parameters": {},
   "start_time": "2022-07-01T02:04:24.054186",
   "version": "2.3.4"
  },
  "widgets": {
   "application/vnd.jupyter.widget-state+json": {
    "state": {
     "006aa701e3e64d828d7e11f3d7f4ee7e": {
      "model_module": "@jupyter-widgets/base",
      "model_module_version": "1.2.0",
      "model_name": "LayoutModel",
      "state": {
       "_model_module": "@jupyter-widgets/base",
       "_model_module_version": "1.2.0",
       "_model_name": "LayoutModel",
       "_view_count": null,
       "_view_module": "@jupyter-widgets/base",
       "_view_module_version": "1.2.0",
       "_view_name": "LayoutView",
       "align_content": null,
       "align_items": null,
       "align_self": null,
       "border": null,
       "bottom": null,
       "display": null,
       "flex": null,
       "flex_flow": null,
       "grid_area": null,
       "grid_auto_columns": null,
       "grid_auto_flow": null,
       "grid_auto_rows": null,
       "grid_column": null,
       "grid_gap": null,
       "grid_row": null,
       "grid_template_areas": null,
       "grid_template_columns": null,
       "grid_template_rows": null,
       "height": null,
       "justify_content": null,
       "justify_items": null,
       "left": null,
       "margin": null,
       "max_height": null,
       "max_width": null,
       "min_height": null,
       "min_width": null,
       "object_fit": null,
       "object_position": null,
       "order": null,
       "overflow": null,
       "overflow_x": null,
       "overflow_y": null,
       "padding": null,
       "right": null,
       "top": null,
       "visibility": null,
       "width": null
      }
     },
     "03016fab267b4f3e85d360cec980e03d": {
      "model_module": "@jupyter-widgets/controls",
      "model_module_version": "1.5.0",
      "model_name": "DescriptionStyleModel",
      "state": {
       "_model_module": "@jupyter-widgets/controls",
       "_model_module_version": "1.5.0",
       "_model_name": "DescriptionStyleModel",
       "_view_count": null,
       "_view_module": "@jupyter-widgets/base",
       "_view_module_version": "1.2.0",
       "_view_name": "StyleView",
       "description_width": ""
      }
     },
     "06b4b56495af48249bb3c53b8c727523": {
      "model_module": "@jupyter-widgets/base",
      "model_module_version": "1.2.0",
      "model_name": "LayoutModel",
      "state": {
       "_model_module": "@jupyter-widgets/base",
       "_model_module_version": "1.2.0",
       "_model_name": "LayoutModel",
       "_view_count": null,
       "_view_module": "@jupyter-widgets/base",
       "_view_module_version": "1.2.0",
       "_view_name": "LayoutView",
       "align_content": null,
       "align_items": null,
       "align_self": null,
       "border": null,
       "bottom": null,
       "display": null,
       "flex": null,
       "flex_flow": null,
       "grid_area": null,
       "grid_auto_columns": null,
       "grid_auto_flow": null,
       "grid_auto_rows": null,
       "grid_column": null,
       "grid_gap": null,
       "grid_row": null,
       "grid_template_areas": null,
       "grid_template_columns": null,
       "grid_template_rows": null,
       "height": null,
       "justify_content": null,
       "justify_items": null,
       "left": null,
       "margin": null,
       "max_height": null,
       "max_width": null,
       "min_height": null,
       "min_width": null,
       "object_fit": null,
       "object_position": null,
       "order": null,
       "overflow": null,
       "overflow_x": null,
       "overflow_y": null,
       "padding": null,
       "right": null,
       "top": null,
       "visibility": null,
       "width": null
      }
     },
     "09f42c9d9bdf48a0a815a2653ab3c8d7": {
      "model_module": "@jupyter-widgets/controls",
      "model_module_version": "1.5.0",
      "model_name": "HTMLModel",
      "state": {
       "_dom_classes": [],
       "_model_module": "@jupyter-widgets/controls",
       "_model_module_version": "1.5.0",
       "_model_name": "HTMLModel",
       "_view_count": null,
       "_view_module": "@jupyter-widgets/controls",
       "_view_module_version": "1.5.0",
       "_view_name": "HTMLView",
       "description": "",
       "description_tooltip": null,
       "layout": "IPY_MODEL_f6467c94768a4cf79eac919f967a1bfd",
       "placeholder": "​",
       "style": "IPY_MODEL_a19689a636944787a733439cc1df753e",
       "value": " 1/0 [00:00&lt;00:00, 32.55it/s]"
      }
     },
     "0e9743e8309240ecaa59bc6618957315": {
      "model_module": "@jupyter-widgets/base",
      "model_module_version": "1.2.0",
      "model_name": "LayoutModel",
      "state": {
       "_model_module": "@jupyter-widgets/base",
       "_model_module_version": "1.2.0",
       "_model_name": "LayoutModel",
       "_view_count": null,
       "_view_module": "@jupyter-widgets/base",
       "_view_module_version": "1.2.0",
       "_view_name": "LayoutView",
       "align_content": null,
       "align_items": null,
       "align_self": null,
       "border": null,
       "bottom": null,
       "display": null,
       "flex": null,
       "flex_flow": null,
       "grid_area": null,
       "grid_auto_columns": null,
       "grid_auto_flow": null,
       "grid_auto_rows": null,
       "grid_column": null,
       "grid_gap": null,
       "grid_row": null,
       "grid_template_areas": null,
       "grid_template_columns": null,
       "grid_template_rows": null,
       "height": null,
       "justify_content": null,
       "justify_items": null,
       "left": null,
       "margin": null,
       "max_height": null,
       "max_width": null,
       "min_height": null,
       "min_width": null,
       "object_fit": null,
       "object_position": null,
       "order": null,
       "overflow": null,
       "overflow_x": null,
       "overflow_y": null,
       "padding": null,
       "right": null,
       "top": null,
       "visibility": null,
       "width": null
      }
     },
     "0f99913192c84c9ba00c49a61c64c173": {
      "model_module": "@jupyter-widgets/controls",
      "model_module_version": "1.5.0",
      "model_name": "HBoxModel",
      "state": {
       "_dom_classes": [],
       "_model_module": "@jupyter-widgets/controls",
       "_model_module_version": "1.5.0",
       "_model_name": "HBoxModel",
       "_view_count": null,
       "_view_module": "@jupyter-widgets/controls",
       "_view_module_version": "1.5.0",
       "_view_name": "HBoxView",
       "box_style": "",
       "children": [
        "IPY_MODEL_79caa3f1c0cc40c0bd39b3ccafc983d5",
        "IPY_MODEL_691d561afcdc4f938213ef2e9e3f2698",
        "IPY_MODEL_e1bc352efe1d41fd919b8041452086c6"
       ],
       "layout": "IPY_MODEL_72afc5ab4ac6414886bb872b73fed05a"
      }
     },
     "1353884296c244e1a8533a4a03049563": {
      "model_module": "@jupyter-widgets/controls",
      "model_module_version": "1.5.0",
      "model_name": "DescriptionStyleModel",
      "state": {
       "_model_module": "@jupyter-widgets/controls",
       "_model_module_version": "1.5.0",
       "_model_name": "DescriptionStyleModel",
       "_view_count": null,
       "_view_module": "@jupyter-widgets/base",
       "_view_module_version": "1.2.0",
       "_view_name": "StyleView",
       "description_width": ""
      }
     },
     "164ec274e7e94adfa39ed1ce7771ef4c": {
      "model_module": "@jupyter-widgets/controls",
      "model_module_version": "1.5.0",
      "model_name": "DescriptionStyleModel",
      "state": {
       "_model_module": "@jupyter-widgets/controls",
       "_model_module_version": "1.5.0",
       "_model_name": "DescriptionStyleModel",
       "_view_count": null,
       "_view_module": "@jupyter-widgets/base",
       "_view_module_version": "1.2.0",
       "_view_name": "StyleView",
       "description_width": ""
      }
     },
     "1f27d3a8af244345bed208cceb7b52b2": {
      "model_module": "@jupyter-widgets/controls",
      "model_module_version": "1.5.0",
      "model_name": "HTMLModel",
      "state": {
       "_dom_classes": [],
       "_model_module": "@jupyter-widgets/controls",
       "_model_module_version": "1.5.0",
       "_model_name": "HTMLModel",
       "_view_count": null,
       "_view_module": "@jupyter-widgets/controls",
       "_view_module_version": "1.5.0",
       "_view_name": "HTMLView",
       "description": "",
       "description_tooltip": null,
       "layout": "IPY_MODEL_bc4d76f11caa46828df7d501066cbded",
       "placeholder": "​",
       "style": "IPY_MODEL_e194ca08c3f14a8f96280bbf1b4d8382",
       "value": " 2/2 [00:00&lt;00:00, 36.41it/s]"
      }
     },
     "20b5d4b283f84061b821a7bd828150fe": {
      "model_module": "@jupyter-widgets/controls",
      "model_module_version": "1.5.0",
      "model_name": "HTMLModel",
      "state": {
       "_dom_classes": [],
       "_model_module": "@jupyter-widgets/controls",
       "_model_module_version": "1.5.0",
       "_model_name": "HTMLModel",
       "_view_count": null,
       "_view_module": "@jupyter-widgets/controls",
       "_view_module_version": "1.5.0",
       "_view_name": "HTMLView",
       "description": "",
       "description_tooltip": null,
       "layout": "IPY_MODEL_d73cf70f6aaf4b8ea984587a65e37a88",
       "placeholder": "​",
       "style": "IPY_MODEL_4fece2b0ac6e4abfb4d9a1ac02e17ee0",
       "value": " 5/5 [00:02&lt;00:00,  1.84it/s]"
      }
     },
     "259e2114de6a4b8084ba0e84a7dcb2ad": {
      "model_module": "@jupyter-widgets/controls",
      "model_module_version": "1.5.0",
      "model_name": "DescriptionStyleModel",
      "state": {
       "_model_module": "@jupyter-widgets/controls",
       "_model_module_version": "1.5.0",
       "_model_name": "DescriptionStyleModel",
       "_view_count": null,
       "_view_module": "@jupyter-widgets/base",
       "_view_module_version": "1.2.0",
       "_view_name": "StyleView",
       "description_width": ""
      }
     },
     "27e5ae737538460bbe9f04b63e0ecf66": {
      "model_module": "@jupyter-widgets/controls",
      "model_module_version": "1.5.0",
      "model_name": "HBoxModel",
      "state": {
       "_dom_classes": [],
       "_model_module": "@jupyter-widgets/controls",
       "_model_module_version": "1.5.0",
       "_model_name": "HBoxModel",
       "_view_count": null,
       "_view_module": "@jupyter-widgets/controls",
       "_view_module_version": "1.5.0",
       "_view_name": "HBoxView",
       "box_style": "",
       "children": [
        "IPY_MODEL_2985ed0a6cd44b748c117afefbe4c5ed",
        "IPY_MODEL_8160cd82fcdb49f49b91dd2449570e1b",
        "IPY_MODEL_20b5d4b283f84061b821a7bd828150fe"
       ],
       "layout": "IPY_MODEL_f0ab6f3cdcf2497eb4658e0b526db499"
      }
     },
     "282fa839622442a6978ab229e54c6c1b": {
      "model_module": "@jupyter-widgets/controls",
      "model_module_version": "1.5.0",
      "model_name": "DescriptionStyleModel",
      "state": {
       "_model_module": "@jupyter-widgets/controls",
       "_model_module_version": "1.5.0",
       "_model_name": "DescriptionStyleModel",
       "_view_count": null,
       "_view_module": "@jupyter-widgets/base",
       "_view_module_version": "1.2.0",
       "_view_name": "StyleView",
       "description_width": ""
      }
     },
     "291dd5ea32b149a0b9a57dcdbe173642": {
      "model_module": "@jupyter-widgets/controls",
      "model_module_version": "1.5.0",
      "model_name": "HBoxModel",
      "state": {
       "_dom_classes": [],
       "_model_module": "@jupyter-widgets/controls",
       "_model_module_version": "1.5.0",
       "_model_name": "HBoxModel",
       "_view_count": null,
       "_view_module": "@jupyter-widgets/controls",
       "_view_module_version": "1.5.0",
       "_view_name": "HBoxView",
       "box_style": "",
       "children": [
        "IPY_MODEL_9229cfe364354bbb8577fc54e495ac50",
        "IPY_MODEL_a2b6a3e89fab445097b3bbe47ebe9385",
        "IPY_MODEL_96deccb8d9de4846a0106db12c5f8be1"
       ],
       "layout": "IPY_MODEL_2a8788a9a0464ffb8319b96b90aedcbf"
      }
     },
     "2985ed0a6cd44b748c117afefbe4c5ed": {
      "model_module": "@jupyter-widgets/controls",
      "model_module_version": "1.5.0",
      "model_name": "HTMLModel",
      "state": {
       "_dom_classes": [],
       "_model_module": "@jupyter-widgets/controls",
       "_model_module_version": "1.5.0",
       "_model_name": "HTMLModel",
       "_view_count": null,
       "_view_module": "@jupyter-widgets/controls",
       "_view_module_version": "1.5.0",
       "_view_name": "HTMLView",
       "description": "",
       "description_tooltip": null,
       "layout": "IPY_MODEL_86cae0f0f2f247ceae8bc92d7d0fb080",
       "placeholder": "​",
       "style": "IPY_MODEL_164ec274e7e94adfa39ed1ce7771ef4c",
       "value": "100%"
      }
     },
     "2a8788a9a0464ffb8319b96b90aedcbf": {
      "model_module": "@jupyter-widgets/base",
      "model_module_version": "1.2.0",
      "model_name": "LayoutModel",
      "state": {
       "_model_module": "@jupyter-widgets/base",
       "_model_module_version": "1.2.0",
       "_model_name": "LayoutModel",
       "_view_count": null,
       "_view_module": "@jupyter-widgets/base",
       "_view_module_version": "1.2.0",
       "_view_name": "LayoutView",
       "align_content": null,
       "align_items": null,
       "align_self": null,
       "border": null,
       "bottom": null,
       "display": null,
       "flex": null,
       "flex_flow": null,
       "grid_area": null,
       "grid_auto_columns": null,
       "grid_auto_flow": null,
       "grid_auto_rows": null,
       "grid_column": null,
       "grid_gap": null,
       "grid_row": null,
       "grid_template_areas": null,
       "grid_template_columns": null,
       "grid_template_rows": null,
       "height": null,
       "justify_content": null,
       "justify_items": null,
       "left": null,
       "margin": null,
       "max_height": null,
       "max_width": null,
       "min_height": null,
       "min_width": null,
       "object_fit": null,
       "object_position": null,
       "order": null,
       "overflow": null,
       "overflow_x": null,
       "overflow_y": null,
       "padding": null,
       "right": null,
       "top": null,
       "visibility": null,
       "width": null
      }
     },
     "2ad59ded5ce649e3bf632f186ca26aca": {
      "model_module": "@jupyter-widgets/base",
      "model_module_version": "1.2.0",
      "model_name": "LayoutModel",
      "state": {
       "_model_module": "@jupyter-widgets/base",
       "_model_module_version": "1.2.0",
       "_model_name": "LayoutModel",
       "_view_count": null,
       "_view_module": "@jupyter-widgets/base",
       "_view_module_version": "1.2.0",
       "_view_name": "LayoutView",
       "align_content": null,
       "align_items": null,
       "align_self": null,
       "border": null,
       "bottom": null,
       "display": null,
       "flex": null,
       "flex_flow": null,
       "grid_area": null,
       "grid_auto_columns": null,
       "grid_auto_flow": null,
       "grid_auto_rows": null,
       "grid_column": null,
       "grid_gap": null,
       "grid_row": null,
       "grid_template_areas": null,
       "grid_template_columns": null,
       "grid_template_rows": null,
       "height": null,
       "justify_content": null,
       "justify_items": null,
       "left": null,
       "margin": null,
       "max_height": null,
       "max_width": null,
       "min_height": null,
       "min_width": null,
       "object_fit": null,
       "object_position": null,
       "order": null,
       "overflow": null,
       "overflow_x": null,
       "overflow_y": null,
       "padding": null,
       "right": null,
       "top": null,
       "visibility": null,
       "width": null
      }
     },
     "2b4479f92dc74d978d07b119d4fcf662": {
      "model_module": "@jupyter-widgets/controls",
      "model_module_version": "1.5.0",
      "model_name": "HTMLModel",
      "state": {
       "_dom_classes": [],
       "_model_module": "@jupyter-widgets/controls",
       "_model_module_version": "1.5.0",
       "_model_name": "HTMLModel",
       "_view_count": null,
       "_view_module": "@jupyter-widgets/controls",
       "_view_module_version": "1.5.0",
       "_view_name": "HTMLView",
       "description": "",
       "description_tooltip": null,
       "layout": "IPY_MODEL_f7ef44011b93472bb6af203fdbd9b60c",
       "placeholder": "​",
       "style": "IPY_MODEL_259e2114de6a4b8084ba0e84a7dcb2ad",
       "value": ""
      }
     },
     "2d200ae8b80a4958acfd55296c46c882": {
      "model_module": "@jupyter-widgets/controls",
      "model_module_version": "1.5.0",
      "model_name": "ProgressStyleModel",
      "state": {
       "_model_module": "@jupyter-widgets/controls",
       "_model_module_version": "1.5.0",
       "_model_name": "ProgressStyleModel",
       "_view_count": null,
       "_view_module": "@jupyter-widgets/base",
       "_view_module_version": "1.2.0",
       "_view_name": "StyleView",
       "bar_color": null,
       "description_width": ""
      }
     },
     "2d801bb29e924227bbe4e368224685fa": {
      "model_module": "@jupyter-widgets/base",
      "model_module_version": "1.2.0",
      "model_name": "LayoutModel",
      "state": {
       "_model_module": "@jupyter-widgets/base",
       "_model_module_version": "1.2.0",
       "_model_name": "LayoutModel",
       "_view_count": null,
       "_view_module": "@jupyter-widgets/base",
       "_view_module_version": "1.2.0",
       "_view_name": "LayoutView",
       "align_content": null,
       "align_items": null,
       "align_self": null,
       "border": null,
       "bottom": null,
       "display": null,
       "flex": null,
       "flex_flow": null,
       "grid_area": null,
       "grid_auto_columns": null,
       "grid_auto_flow": null,
       "grid_auto_rows": null,
       "grid_column": null,
       "grid_gap": null,
       "grid_row": null,
       "grid_template_areas": null,
       "grid_template_columns": null,
       "grid_template_rows": null,
       "height": null,
       "justify_content": null,
       "justify_items": null,
       "left": null,
       "margin": null,
       "max_height": null,
       "max_width": null,
       "min_height": null,
       "min_width": null,
       "object_fit": null,
       "object_position": null,
       "order": null,
       "overflow": null,
       "overflow_x": null,
       "overflow_y": null,
       "padding": null,
       "right": null,
       "top": null,
       "visibility": null,
       "width": null
      }
     },
     "41c718cc467347bebe6905c8384e1249": {
      "model_module": "@jupyter-widgets/controls",
      "model_module_version": "1.5.0",
      "model_name": "DescriptionStyleModel",
      "state": {
       "_model_module": "@jupyter-widgets/controls",
       "_model_module_version": "1.5.0",
       "_model_name": "DescriptionStyleModel",
       "_view_count": null,
       "_view_module": "@jupyter-widgets/base",
       "_view_module_version": "1.2.0",
       "_view_name": "StyleView",
       "description_width": ""
      }
     },
     "437fa7f0e2b045e9917dc65b577aaca0": {
      "model_module": "@jupyter-widgets/base",
      "model_module_version": "1.2.0",
      "model_name": "LayoutModel",
      "state": {
       "_model_module": "@jupyter-widgets/base",
       "_model_module_version": "1.2.0",
       "_model_name": "LayoutModel",
       "_view_count": null,
       "_view_module": "@jupyter-widgets/base",
       "_view_module_version": "1.2.0",
       "_view_name": "LayoutView",
       "align_content": null,
       "align_items": null,
       "align_self": null,
       "border": null,
       "bottom": null,
       "display": null,
       "flex": null,
       "flex_flow": null,
       "grid_area": null,
       "grid_auto_columns": null,
       "grid_auto_flow": null,
       "grid_auto_rows": null,
       "grid_column": null,
       "grid_gap": null,
       "grid_row": null,
       "grid_template_areas": null,
       "grid_template_columns": null,
       "grid_template_rows": null,
       "height": null,
       "justify_content": null,
       "justify_items": null,
       "left": null,
       "margin": null,
       "max_height": null,
       "max_width": null,
       "min_height": null,
       "min_width": null,
       "object_fit": null,
       "object_position": null,
       "order": null,
       "overflow": null,
       "overflow_x": null,
       "overflow_y": null,
       "padding": null,
       "right": null,
       "top": null,
       "visibility": null,
       "width": "20px"
      }
     },
     "4fece2b0ac6e4abfb4d9a1ac02e17ee0": {
      "model_module": "@jupyter-widgets/controls",
      "model_module_version": "1.5.0",
      "model_name": "DescriptionStyleModel",
      "state": {
       "_model_module": "@jupyter-widgets/controls",
       "_model_module_version": "1.5.0",
       "_model_name": "DescriptionStyleModel",
       "_view_count": null,
       "_view_module": "@jupyter-widgets/base",
       "_view_module_version": "1.2.0",
       "_view_name": "StyleView",
       "description_width": ""
      }
     },
     "51c36d1357b0404fa336c4c19566ef93": {
      "model_module": "@jupyter-widgets/base",
      "model_module_version": "1.2.0",
      "model_name": "LayoutModel",
      "state": {
       "_model_module": "@jupyter-widgets/base",
       "_model_module_version": "1.2.0",
       "_model_name": "LayoutModel",
       "_view_count": null,
       "_view_module": "@jupyter-widgets/base",
       "_view_module_version": "1.2.0",
       "_view_name": "LayoutView",
       "align_content": null,
       "align_items": null,
       "align_self": null,
       "border": null,
       "bottom": null,
       "display": null,
       "flex": null,
       "flex_flow": null,
       "grid_area": null,
       "grid_auto_columns": null,
       "grid_auto_flow": null,
       "grid_auto_rows": null,
       "grid_column": null,
       "grid_gap": null,
       "grid_row": null,
       "grid_template_areas": null,
       "grid_template_columns": null,
       "grid_template_rows": null,
       "height": null,
       "justify_content": null,
       "justify_items": null,
       "left": null,
       "margin": null,
       "max_height": null,
       "max_width": null,
       "min_height": null,
       "min_width": null,
       "object_fit": null,
       "object_position": null,
       "order": null,
       "overflow": null,
       "overflow_x": null,
       "overflow_y": null,
       "padding": null,
       "right": null,
       "top": null,
       "visibility": null,
       "width": null
      }
     },
     "65ae0a6e296349fa9dab9a8712ed5719": {
      "model_module": "@jupyter-widgets/controls",
      "model_module_version": "1.5.0",
      "model_name": "DescriptionStyleModel",
      "state": {
       "_model_module": "@jupyter-widgets/controls",
       "_model_module_version": "1.5.0",
       "_model_name": "DescriptionStyleModel",
       "_view_count": null,
       "_view_module": "@jupyter-widgets/base",
       "_view_module_version": "1.2.0",
       "_view_name": "StyleView",
       "description_width": ""
      }
     },
     "691d561afcdc4f938213ef2e9e3f2698": {
      "model_module": "@jupyter-widgets/controls",
      "model_module_version": "1.5.0",
      "model_name": "FloatProgressModel",
      "state": {
       "_dom_classes": [],
       "_model_module": "@jupyter-widgets/controls",
       "_model_module_version": "1.5.0",
       "_model_name": "FloatProgressModel",
       "_view_count": null,
       "_view_module": "@jupyter-widgets/controls",
       "_view_module_version": "1.5.0",
       "_view_name": "ProgressView",
       "bar_style": "success",
       "description": "",
       "description_tooltip": null,
       "layout": "IPY_MODEL_51c36d1357b0404fa336c4c19566ef93",
       "max": 7.0,
       "min": 0.0,
       "orientation": "horizontal",
       "style": "IPY_MODEL_dceab0d4575e42f0a01d490531529b18",
       "value": 7.0
      }
     },
     "6d685113479341f4bfcc8ec1d153039c": {
      "model_module": "@jupyter-widgets/base",
      "model_module_version": "1.2.0",
      "model_name": "LayoutModel",
      "state": {
       "_model_module": "@jupyter-widgets/base",
       "_model_module_version": "1.2.0",
       "_model_name": "LayoutModel",
       "_view_count": null,
       "_view_module": "@jupyter-widgets/base",
       "_view_module_version": "1.2.0",
       "_view_name": "LayoutView",
       "align_content": null,
       "align_items": null,
       "align_self": null,
       "border": null,
       "bottom": null,
       "display": null,
       "flex": null,
       "flex_flow": null,
       "grid_area": null,
       "grid_auto_columns": null,
       "grid_auto_flow": null,
       "grid_auto_rows": null,
       "grid_column": null,
       "grid_gap": null,
       "grid_row": null,
       "grid_template_areas": null,
       "grid_template_columns": null,
       "grid_template_rows": null,
       "height": null,
       "justify_content": null,
       "justify_items": null,
       "left": null,
       "margin": null,
       "max_height": null,
       "max_width": null,
       "min_height": null,
       "min_width": null,
       "object_fit": null,
       "object_position": null,
       "order": null,
       "overflow": null,
       "overflow_x": null,
       "overflow_y": null,
       "padding": null,
       "right": null,
       "top": null,
       "visibility": null,
       "width": null
      }
     },
     "72afc5ab4ac6414886bb872b73fed05a": {
      "model_module": "@jupyter-widgets/base",
      "model_module_version": "1.2.0",
      "model_name": "LayoutModel",
      "state": {
       "_model_module": "@jupyter-widgets/base",
       "_model_module_version": "1.2.0",
       "_model_name": "LayoutModel",
       "_view_count": null,
       "_view_module": "@jupyter-widgets/base",
       "_view_module_version": "1.2.0",
       "_view_name": "LayoutView",
       "align_content": null,
       "align_items": null,
       "align_self": null,
       "border": null,
       "bottom": null,
       "display": null,
       "flex": null,
       "flex_flow": null,
       "grid_area": null,
       "grid_auto_columns": null,
       "grid_auto_flow": null,
       "grid_auto_rows": null,
       "grid_column": null,
       "grid_gap": null,
       "grid_row": null,
       "grid_template_areas": null,
       "grid_template_columns": null,
       "grid_template_rows": null,
       "height": null,
       "justify_content": null,
       "justify_items": null,
       "left": null,
       "margin": null,
       "max_height": null,
       "max_width": null,
       "min_height": null,
       "min_width": null,
       "object_fit": null,
       "object_position": null,
       "order": null,
       "overflow": null,
       "overflow_x": null,
       "overflow_y": null,
       "padding": null,
       "right": null,
       "top": null,
       "visibility": null,
       "width": null
      }
     },
     "72c1832195294bfbabd093f99766d84c": {
      "model_module": "@jupyter-widgets/controls",
      "model_module_version": "1.5.0",
      "model_name": "HTMLModel",
      "state": {
       "_dom_classes": [],
       "_model_module": "@jupyter-widgets/controls",
       "_model_module_version": "1.5.0",
       "_model_name": "HTMLModel",
       "_view_count": null,
       "_view_module": "@jupyter-widgets/controls",
       "_view_module_version": "1.5.0",
       "_view_name": "HTMLView",
       "description": "",
       "description_tooltip": null,
       "layout": "IPY_MODEL_90a610799bb540ec979c6e3e6f08405d",
       "placeholder": "​",
       "style": "IPY_MODEL_41c718cc467347bebe6905c8384e1249",
       "value": "100%"
      }
     },
     "763062ccb1e547cd83d1699aca4d6e41": {
      "model_module": "@jupyter-widgets/controls",
      "model_module_version": "1.5.0",
      "model_name": "DescriptionStyleModel",
      "state": {
       "_model_module": "@jupyter-widgets/controls",
       "_model_module_version": "1.5.0",
       "_model_name": "DescriptionStyleModel",
       "_view_count": null,
       "_view_module": "@jupyter-widgets/base",
       "_view_module_version": "1.2.0",
       "_view_name": "StyleView",
       "description_width": ""
      }
     },
     "7721393203514b559b220729130e98fd": {
      "model_module": "@jupyter-widgets/base",
      "model_module_version": "1.2.0",
      "model_name": "LayoutModel",
      "state": {
       "_model_module": "@jupyter-widgets/base",
       "_model_module_version": "1.2.0",
       "_model_name": "LayoutModel",
       "_view_count": null,
       "_view_module": "@jupyter-widgets/base",
       "_view_module_version": "1.2.0",
       "_view_name": "LayoutView",
       "align_content": null,
       "align_items": null,
       "align_self": null,
       "border": null,
       "bottom": null,
       "display": null,
       "flex": null,
       "flex_flow": null,
       "grid_area": null,
       "grid_auto_columns": null,
       "grid_auto_flow": null,
       "grid_auto_rows": null,
       "grid_column": null,
       "grid_gap": null,
       "grid_row": null,
       "grid_template_areas": null,
       "grid_template_columns": null,
       "grid_template_rows": null,
       "height": null,
       "justify_content": null,
       "justify_items": null,
       "left": null,
       "margin": null,
       "max_height": null,
       "max_width": null,
       "min_height": null,
       "min_width": null,
       "object_fit": null,
       "object_position": null,
       "order": null,
       "overflow": null,
       "overflow_x": null,
       "overflow_y": null,
       "padding": null,
       "right": null,
       "top": null,
       "visibility": null,
       "width": null
      }
     },
     "79caa3f1c0cc40c0bd39b3ccafc983d5": {
      "model_module": "@jupyter-widgets/controls",
      "model_module_version": "1.5.0",
      "model_name": "HTMLModel",
      "state": {
       "_dom_classes": [],
       "_model_module": "@jupyter-widgets/controls",
       "_model_module_version": "1.5.0",
       "_model_name": "HTMLModel",
       "_view_count": null,
       "_view_module": "@jupyter-widgets/controls",
       "_view_module_version": "1.5.0",
       "_view_name": "HTMLView",
       "description": "",
       "description_tooltip": null,
       "layout": "IPY_MODEL_0e9743e8309240ecaa59bc6618957315",
       "placeholder": "​",
       "style": "IPY_MODEL_763062ccb1e547cd83d1699aca4d6e41",
       "value": "100%"
      }
     },
     "7ca7a679a3274669867e27f2b1380bdb": {
      "model_module": "@jupyter-widgets/base",
      "model_module_version": "1.2.0",
      "model_name": "LayoutModel",
      "state": {
       "_model_module": "@jupyter-widgets/base",
       "_model_module_version": "1.2.0",
       "_model_name": "LayoutModel",
       "_view_count": null,
       "_view_module": "@jupyter-widgets/base",
       "_view_module_version": "1.2.0",
       "_view_name": "LayoutView",
       "align_content": null,
       "align_items": null,
       "align_self": null,
       "border": null,
       "bottom": null,
       "display": null,
       "flex": null,
       "flex_flow": null,
       "grid_area": null,
       "grid_auto_columns": null,
       "grid_auto_flow": null,
       "grid_auto_rows": null,
       "grid_column": null,
       "grid_gap": null,
       "grid_row": null,
       "grid_template_areas": null,
       "grid_template_columns": null,
       "grid_template_rows": null,
       "height": null,
       "justify_content": null,
       "justify_items": null,
       "left": null,
       "margin": null,
       "max_height": null,
       "max_width": null,
       "min_height": null,
       "min_width": null,
       "object_fit": null,
       "object_position": null,
       "order": null,
       "overflow": null,
       "overflow_x": null,
       "overflow_y": null,
       "padding": null,
       "right": null,
       "top": null,
       "visibility": null,
       "width": null
      }
     },
     "8160cd82fcdb49f49b91dd2449570e1b": {
      "model_module": "@jupyter-widgets/controls",
      "model_module_version": "1.5.0",
      "model_name": "FloatProgressModel",
      "state": {
       "_dom_classes": [],
       "_model_module": "@jupyter-widgets/controls",
       "_model_module_version": "1.5.0",
       "_model_name": "FloatProgressModel",
       "_view_count": null,
       "_view_module": "@jupyter-widgets/controls",
       "_view_module_version": "1.5.0",
       "_view_name": "ProgressView",
       "bar_style": "success",
       "description": "",
       "description_tooltip": null,
       "layout": "IPY_MODEL_06b4b56495af48249bb3c53b8c727523",
       "max": 5.0,
       "min": 0.0,
       "orientation": "horizontal",
       "style": "IPY_MODEL_2d200ae8b80a4958acfd55296c46c882",
       "value": 5.0
      }
     },
     "856f6ef812d8484bb622333f95f3c6cb": {
      "model_module": "@jupyter-widgets/controls",
      "model_module_version": "1.5.0",
      "model_name": "HBoxModel",
      "state": {
       "_dom_classes": [],
       "_model_module": "@jupyter-widgets/controls",
       "_model_module_version": "1.5.0",
       "_model_name": "HBoxModel",
       "_view_count": null,
       "_view_module": "@jupyter-widgets/controls",
       "_view_module_version": "1.5.0",
       "_view_name": "HBoxView",
       "box_style": "",
       "children": [
        "IPY_MODEL_fde3f4efdb584dddbd5ffe2bd823bf94",
        "IPY_MODEL_c05eb349cf194b59a6b85b96b1309cd9",
        "IPY_MODEL_1f27d3a8af244345bed208cceb7b52b2"
       ],
       "layout": "IPY_MODEL_6d685113479341f4bfcc8ec1d153039c"
      }
     },
     "85ea96629a2a4267af2a84ea3cb68ab1": {
      "model_module": "@jupyter-widgets/controls",
      "model_module_version": "1.5.0",
      "model_name": "HBoxModel",
      "state": {
       "_dom_classes": [],
       "_model_module": "@jupyter-widgets/controls",
       "_model_module_version": "1.5.0",
       "_model_name": "HBoxModel",
       "_view_count": null,
       "_view_module": "@jupyter-widgets/controls",
       "_view_module_version": "1.5.0",
       "_view_name": "HBoxView",
       "box_style": "",
       "children": [
        "IPY_MODEL_72c1832195294bfbabd093f99766d84c",
        "IPY_MODEL_96debb2d402b456cb9dab027bd4d772d",
        "IPY_MODEL_e0a333b82aea4a3487f308fe66fa76aa"
       ],
       "layout": "IPY_MODEL_d6457f442b7a44bb87f52b25c2d59eec"
      }
     },
     "86cae0f0f2f247ceae8bc92d7d0fb080": {
      "model_module": "@jupyter-widgets/base",
      "model_module_version": "1.2.0",
      "model_name": "LayoutModel",
      "state": {
       "_model_module": "@jupyter-widgets/base",
       "_model_module_version": "1.2.0",
       "_model_name": "LayoutModel",
       "_view_count": null,
       "_view_module": "@jupyter-widgets/base",
       "_view_module_version": "1.2.0",
       "_view_name": "LayoutView",
       "align_content": null,
       "align_items": null,
       "align_self": null,
       "border": null,
       "bottom": null,
       "display": null,
       "flex": null,
       "flex_flow": null,
       "grid_area": null,
       "grid_auto_columns": null,
       "grid_auto_flow": null,
       "grid_auto_rows": null,
       "grid_column": null,
       "grid_gap": null,
       "grid_row": null,
       "grid_template_areas": null,
       "grid_template_columns": null,
       "grid_template_rows": null,
       "height": null,
       "justify_content": null,
       "justify_items": null,
       "left": null,
       "margin": null,
       "max_height": null,
       "max_width": null,
       "min_height": null,
       "min_width": null,
       "object_fit": null,
       "object_position": null,
       "order": null,
       "overflow": null,
       "overflow_x": null,
       "overflow_y": null,
       "padding": null,
       "right": null,
       "top": null,
       "visibility": null,
       "width": null
      }
     },
     "89066d88faa24b069e6bba82854ce7ac": {
      "model_module": "@jupyter-widgets/base",
      "model_module_version": "1.2.0",
      "model_name": "LayoutModel",
      "state": {
       "_model_module": "@jupyter-widgets/base",
       "_model_module_version": "1.2.0",
       "_model_name": "LayoutModel",
       "_view_count": null,
       "_view_module": "@jupyter-widgets/base",
       "_view_module_version": "1.2.0",
       "_view_name": "LayoutView",
       "align_content": null,
       "align_items": null,
       "align_self": null,
       "border": null,
       "bottom": null,
       "display": null,
       "flex": null,
       "flex_flow": null,
       "grid_area": null,
       "grid_auto_columns": null,
       "grid_auto_flow": null,
       "grid_auto_rows": null,
       "grid_column": null,
       "grid_gap": null,
       "grid_row": null,
       "grid_template_areas": null,
       "grid_template_columns": null,
       "grid_template_rows": null,
       "height": null,
       "justify_content": null,
       "justify_items": null,
       "left": null,
       "margin": null,
       "max_height": null,
       "max_width": null,
       "min_height": null,
       "min_width": null,
       "object_fit": null,
       "object_position": null,
       "order": null,
       "overflow": null,
       "overflow_x": null,
       "overflow_y": null,
       "padding": null,
       "right": null,
       "top": null,
       "visibility": null,
       "width": null
      }
     },
     "8b17fcec96cd4eea897e0d8a7994181a": {
      "model_module": "@jupyter-widgets/base",
      "model_module_version": "1.2.0",
      "model_name": "LayoutModel",
      "state": {
       "_model_module": "@jupyter-widgets/base",
       "_model_module_version": "1.2.0",
       "_model_name": "LayoutModel",
       "_view_count": null,
       "_view_module": "@jupyter-widgets/base",
       "_view_module_version": "1.2.0",
       "_view_name": "LayoutView",
       "align_content": null,
       "align_items": null,
       "align_self": null,
       "border": null,
       "bottom": null,
       "display": null,
       "flex": null,
       "flex_flow": null,
       "grid_area": null,
       "grid_auto_columns": null,
       "grid_auto_flow": null,
       "grid_auto_rows": null,
       "grid_column": null,
       "grid_gap": null,
       "grid_row": null,
       "grid_template_areas": null,
       "grid_template_columns": null,
       "grid_template_rows": null,
       "height": null,
       "justify_content": null,
       "justify_items": null,
       "left": null,
       "margin": null,
       "max_height": null,
       "max_width": null,
       "min_height": null,
       "min_width": null,
       "object_fit": null,
       "object_position": null,
       "order": null,
       "overflow": null,
       "overflow_x": null,
       "overflow_y": null,
       "padding": null,
       "right": null,
       "top": null,
       "visibility": null,
       "width": null
      }
     },
     "8cf8bbe998944f8999257ec040007816": {
      "model_module": "@jupyter-widgets/controls",
      "model_module_version": "1.5.0",
      "model_name": "ProgressStyleModel",
      "state": {
       "_model_module": "@jupyter-widgets/controls",
       "_model_module_version": "1.5.0",
       "_model_name": "ProgressStyleModel",
       "_view_count": null,
       "_view_module": "@jupyter-widgets/base",
       "_view_module_version": "1.2.0",
       "_view_name": "StyleView",
       "bar_color": null,
       "description_width": ""
      }
     },
     "90a610799bb540ec979c6e3e6f08405d": {
      "model_module": "@jupyter-widgets/base",
      "model_module_version": "1.2.0",
      "model_name": "LayoutModel",
      "state": {
       "_model_module": "@jupyter-widgets/base",
       "_model_module_version": "1.2.0",
       "_model_name": "LayoutModel",
       "_view_count": null,
       "_view_module": "@jupyter-widgets/base",
       "_view_module_version": "1.2.0",
       "_view_name": "LayoutView",
       "align_content": null,
       "align_items": null,
       "align_self": null,
       "border": null,
       "bottom": null,
       "display": null,
       "flex": null,
       "flex_flow": null,
       "grid_area": null,
       "grid_auto_columns": null,
       "grid_auto_flow": null,
       "grid_auto_rows": null,
       "grid_column": null,
       "grid_gap": null,
       "grid_row": null,
       "grid_template_areas": null,
       "grid_template_columns": null,
       "grid_template_rows": null,
       "height": null,
       "justify_content": null,
       "justify_items": null,
       "left": null,
       "margin": null,
       "max_height": null,
       "max_width": null,
       "min_height": null,
       "min_width": null,
       "object_fit": null,
       "object_position": null,
       "order": null,
       "overflow": null,
       "overflow_x": null,
       "overflow_y": null,
       "padding": null,
       "right": null,
       "top": null,
       "visibility": null,
       "width": null
      }
     },
     "9229cfe364354bbb8577fc54e495ac50": {
      "model_module": "@jupyter-widgets/controls",
      "model_module_version": "1.5.0",
      "model_name": "HTMLModel",
      "state": {
       "_dom_classes": [],
       "_model_module": "@jupyter-widgets/controls",
       "_model_module_version": "1.5.0",
       "_model_name": "HTMLModel",
       "_view_count": null,
       "_view_module": "@jupyter-widgets/controls",
       "_view_module_version": "1.5.0",
       "_view_name": "HTMLView",
       "description": "",
       "description_tooltip": null,
       "layout": "IPY_MODEL_2d801bb29e924227bbe4e368224685fa",
       "placeholder": "​",
       "style": "IPY_MODEL_03016fab267b4f3e85d360cec980e03d",
       "value": "100%"
      }
     },
     "96debb2d402b456cb9dab027bd4d772d": {
      "model_module": "@jupyter-widgets/controls",
      "model_module_version": "1.5.0",
      "model_name": "FloatProgressModel",
      "state": {
       "_dom_classes": [],
       "_model_module": "@jupyter-widgets/controls",
       "_model_module_version": "1.5.0",
       "_model_name": "FloatProgressModel",
       "_view_count": null,
       "_view_module": "@jupyter-widgets/controls",
       "_view_module_version": "1.5.0",
       "_view_name": "ProgressView",
       "bar_style": "success",
       "description": "",
       "description_tooltip": null,
       "layout": "IPY_MODEL_006aa701e3e64d828d7e11f3d7f4ee7e",
       "max": 5.0,
       "min": 0.0,
       "orientation": "horizontal",
       "style": "IPY_MODEL_9a49864ddb904fcaa957c88d79ab09d2",
       "value": 5.0
      }
     },
     "96deccb8d9de4846a0106db12c5f8be1": {
      "model_module": "@jupyter-widgets/controls",
      "model_module_version": "1.5.0",
      "model_name": "HTMLModel",
      "state": {
       "_dom_classes": [],
       "_model_module": "@jupyter-widgets/controls",
       "_model_module_version": "1.5.0",
       "_model_name": "HTMLModel",
       "_view_count": null,
       "_view_module": "@jupyter-widgets/controls",
       "_view_module_version": "1.5.0",
       "_view_name": "HTMLView",
       "description": "",
       "description_tooltip": null,
       "layout": "IPY_MODEL_7721393203514b559b220729130e98fd",
       "placeholder": "​",
       "style": "IPY_MODEL_282fa839622442a6978ab229e54c6c1b",
       "value": " 5/5 [00:00&lt;00:00, 146.34it/s]"
      }
     },
     "9a49864ddb904fcaa957c88d79ab09d2": {
      "model_module": "@jupyter-widgets/controls",
      "model_module_version": "1.5.0",
      "model_name": "ProgressStyleModel",
      "state": {
       "_model_module": "@jupyter-widgets/controls",
       "_model_module_version": "1.5.0",
       "_model_name": "ProgressStyleModel",
       "_view_count": null,
       "_view_module": "@jupyter-widgets/base",
       "_view_module_version": "1.2.0",
       "_view_name": "StyleView",
       "bar_color": null,
       "description_width": ""
      }
     },
     "9e8c47fefe1c47b080ef88516ad37080": {
      "model_module": "@jupyter-widgets/base",
      "model_module_version": "1.2.0",
      "model_name": "LayoutModel",
      "state": {
       "_model_module": "@jupyter-widgets/base",
       "_model_module_version": "1.2.0",
       "_model_name": "LayoutModel",
       "_view_count": null,
       "_view_module": "@jupyter-widgets/base",
       "_view_module_version": "1.2.0",
       "_view_name": "LayoutView",
       "align_content": null,
       "align_items": null,
       "align_self": null,
       "border": null,
       "bottom": null,
       "display": null,
       "flex": null,
       "flex_flow": null,
       "grid_area": null,
       "grid_auto_columns": null,
       "grid_auto_flow": null,
       "grid_auto_rows": null,
       "grid_column": null,
       "grid_gap": null,
       "grid_row": null,
       "grid_template_areas": null,
       "grid_template_columns": null,
       "grid_template_rows": null,
       "height": null,
       "justify_content": null,
       "justify_items": null,
       "left": null,
       "margin": null,
       "max_height": null,
       "max_width": null,
       "min_height": null,
       "min_width": null,
       "object_fit": null,
       "object_position": null,
       "order": null,
       "overflow": null,
       "overflow_x": null,
       "overflow_y": null,
       "padding": null,
       "right": null,
       "top": null,
       "visibility": null,
       "width": null
      }
     },
     "9fb67a3e6ab44502972f8ef996502558": {
      "model_module": "@jupyter-widgets/base",
      "model_module_version": "1.2.0",
      "model_name": "LayoutModel",
      "state": {
       "_model_module": "@jupyter-widgets/base",
       "_model_module_version": "1.2.0",
       "_model_name": "LayoutModel",
       "_view_count": null,
       "_view_module": "@jupyter-widgets/base",
       "_view_module_version": "1.2.0",
       "_view_name": "LayoutView",
       "align_content": null,
       "align_items": null,
       "align_self": null,
       "border": null,
       "bottom": null,
       "display": null,
       "flex": null,
       "flex_flow": null,
       "grid_area": null,
       "grid_auto_columns": null,
       "grid_auto_flow": null,
       "grid_auto_rows": null,
       "grid_column": null,
       "grid_gap": null,
       "grid_row": null,
       "grid_template_areas": null,
       "grid_template_columns": null,
       "grid_template_rows": null,
       "height": null,
       "justify_content": null,
       "justify_items": null,
       "left": null,
       "margin": null,
       "max_height": null,
       "max_width": null,
       "min_height": null,
       "min_width": null,
       "object_fit": null,
       "object_position": null,
       "order": null,
       "overflow": null,
       "overflow_x": null,
       "overflow_y": null,
       "padding": null,
       "right": null,
       "top": null,
       "visibility": null,
       "width": null
      }
     },
     "a08d090844214ed78fb3acff0a59f4b0": {
      "model_module": "@jupyter-widgets/controls",
      "model_module_version": "1.5.0",
      "model_name": "DescriptionStyleModel",
      "state": {
       "_model_module": "@jupyter-widgets/controls",
       "_model_module_version": "1.5.0",
       "_model_name": "DescriptionStyleModel",
       "_view_count": null,
       "_view_module": "@jupyter-widgets/base",
       "_view_module_version": "1.2.0",
       "_view_name": "StyleView",
       "description_width": ""
      }
     },
     "a19689a636944787a733439cc1df753e": {
      "model_module": "@jupyter-widgets/controls",
      "model_module_version": "1.5.0",
      "model_name": "DescriptionStyleModel",
      "state": {
       "_model_module": "@jupyter-widgets/controls",
       "_model_module_version": "1.5.0",
       "_model_name": "DescriptionStyleModel",
       "_view_count": null,
       "_view_module": "@jupyter-widgets/base",
       "_view_module_version": "1.2.0",
       "_view_name": "StyleView",
       "description_width": ""
      }
     },
     "a2b6a3e89fab445097b3bbe47ebe9385": {
      "model_module": "@jupyter-widgets/controls",
      "model_module_version": "1.5.0",
      "model_name": "FloatProgressModel",
      "state": {
       "_dom_classes": [],
       "_model_module": "@jupyter-widgets/controls",
       "_model_module_version": "1.5.0",
       "_model_name": "FloatProgressModel",
       "_view_count": null,
       "_view_module": "@jupyter-widgets/controls",
       "_view_module_version": "1.5.0",
       "_view_name": "ProgressView",
       "bar_style": "success",
       "description": "",
       "description_tooltip": null,
       "layout": "IPY_MODEL_9fb67a3e6ab44502972f8ef996502558",
       "max": 5.0,
       "min": 0.0,
       "orientation": "horizontal",
       "style": "IPY_MODEL_c64b1ddbe0f74a35ac9ec07460a6a2a6",
       "value": 5.0
      }
     },
     "bc4d76f11caa46828df7d501066cbded": {
      "model_module": "@jupyter-widgets/base",
      "model_module_version": "1.2.0",
      "model_name": "LayoutModel",
      "state": {
       "_model_module": "@jupyter-widgets/base",
       "_model_module_version": "1.2.0",
       "_model_name": "LayoutModel",
       "_view_count": null,
       "_view_module": "@jupyter-widgets/base",
       "_view_module_version": "1.2.0",
       "_view_name": "LayoutView",
       "align_content": null,
       "align_items": null,
       "align_self": null,
       "border": null,
       "bottom": null,
       "display": null,
       "flex": null,
       "flex_flow": null,
       "grid_area": null,
       "grid_auto_columns": null,
       "grid_auto_flow": null,
       "grid_auto_rows": null,
       "grid_column": null,
       "grid_gap": null,
       "grid_row": null,
       "grid_template_areas": null,
       "grid_template_columns": null,
       "grid_template_rows": null,
       "height": null,
       "justify_content": null,
       "justify_items": null,
       "left": null,
       "margin": null,
       "max_height": null,
       "max_width": null,
       "min_height": null,
       "min_width": null,
       "object_fit": null,
       "object_position": null,
       "order": null,
       "overflow": null,
       "overflow_x": null,
       "overflow_y": null,
       "padding": null,
       "right": null,
       "top": null,
       "visibility": null,
       "width": null
      }
     },
     "c05eb349cf194b59a6b85b96b1309cd9": {
      "model_module": "@jupyter-widgets/controls",
      "model_module_version": "1.5.0",
      "model_name": "FloatProgressModel",
      "state": {
       "_dom_classes": [],
       "_model_module": "@jupyter-widgets/controls",
       "_model_module_version": "1.5.0",
       "_model_name": "FloatProgressModel",
       "_view_count": null,
       "_view_module": "@jupyter-widgets/controls",
       "_view_module_version": "1.5.0",
       "_view_name": "ProgressView",
       "bar_style": "success",
       "description": "",
       "description_tooltip": null,
       "layout": "IPY_MODEL_9e8c47fefe1c47b080ef88516ad37080",
       "max": 2.0,
       "min": 0.0,
       "orientation": "horizontal",
       "style": "IPY_MODEL_8cf8bbe998944f8999257ec040007816",
       "value": 2.0
      }
     },
     "c3ed9316ba3b4e08983c28b7ac58be96": {
      "model_module": "@jupyter-widgets/controls",
      "model_module_version": "1.5.0",
      "model_name": "FloatProgressModel",
      "state": {
       "_dom_classes": [],
       "_model_module": "@jupyter-widgets/controls",
       "_model_module_version": "1.5.0",
       "_model_name": "FloatProgressModel",
       "_view_count": null,
       "_view_module": "@jupyter-widgets/controls",
       "_view_module_version": "1.5.0",
       "_view_name": "ProgressView",
       "bar_style": "success",
       "description": "",
       "description_tooltip": null,
       "layout": "IPY_MODEL_437fa7f0e2b045e9917dc65b577aaca0",
       "max": 1.0,
       "min": 0.0,
       "orientation": "horizontal",
       "style": "IPY_MODEL_db0627a0e5294d398453b1d180e936d0",
       "value": 1.0
      }
     },
     "c64b1ddbe0f74a35ac9ec07460a6a2a6": {
      "model_module": "@jupyter-widgets/controls",
      "model_module_version": "1.5.0",
      "model_name": "ProgressStyleModel",
      "state": {
       "_model_module": "@jupyter-widgets/controls",
       "_model_module_version": "1.5.0",
       "_model_name": "ProgressStyleModel",
       "_view_count": null,
       "_view_module": "@jupyter-widgets/base",
       "_view_module_version": "1.2.0",
       "_view_name": "StyleView",
       "bar_color": null,
       "description_width": ""
      }
     },
     "d6457f442b7a44bb87f52b25c2d59eec": {
      "model_module": "@jupyter-widgets/base",
      "model_module_version": "1.2.0",
      "model_name": "LayoutModel",
      "state": {
       "_model_module": "@jupyter-widgets/base",
       "_model_module_version": "1.2.0",
       "_model_name": "LayoutModel",
       "_view_count": null,
       "_view_module": "@jupyter-widgets/base",
       "_view_module_version": "1.2.0",
       "_view_name": "LayoutView",
       "align_content": null,
       "align_items": null,
       "align_self": null,
       "border": null,
       "bottom": null,
       "display": null,
       "flex": null,
       "flex_flow": null,
       "grid_area": null,
       "grid_auto_columns": null,
       "grid_auto_flow": null,
       "grid_auto_rows": null,
       "grid_column": null,
       "grid_gap": null,
       "grid_row": null,
       "grid_template_areas": null,
       "grid_template_columns": null,
       "grid_template_rows": null,
       "height": null,
       "justify_content": null,
       "justify_items": null,
       "left": null,
       "margin": null,
       "max_height": null,
       "max_width": null,
       "min_height": null,
       "min_width": null,
       "object_fit": null,
       "object_position": null,
       "order": null,
       "overflow": null,
       "overflow_x": null,
       "overflow_y": null,
       "padding": null,
       "right": null,
       "top": null,
       "visibility": null,
       "width": null
      }
     },
     "d73cf70f6aaf4b8ea984587a65e37a88": {
      "model_module": "@jupyter-widgets/base",
      "model_module_version": "1.2.0",
      "model_name": "LayoutModel",
      "state": {
       "_model_module": "@jupyter-widgets/base",
       "_model_module_version": "1.2.0",
       "_model_name": "LayoutModel",
       "_view_count": null,
       "_view_module": "@jupyter-widgets/base",
       "_view_module_version": "1.2.0",
       "_view_name": "LayoutView",
       "align_content": null,
       "align_items": null,
       "align_self": null,
       "border": null,
       "bottom": null,
       "display": null,
       "flex": null,
       "flex_flow": null,
       "grid_area": null,
       "grid_auto_columns": null,
       "grid_auto_flow": null,
       "grid_auto_rows": null,
       "grid_column": null,
       "grid_gap": null,
       "grid_row": null,
       "grid_template_areas": null,
       "grid_template_columns": null,
       "grid_template_rows": null,
       "height": null,
       "justify_content": null,
       "justify_items": null,
       "left": null,
       "margin": null,
       "max_height": null,
       "max_width": null,
       "min_height": null,
       "min_width": null,
       "object_fit": null,
       "object_position": null,
       "order": null,
       "overflow": null,
       "overflow_x": null,
       "overflow_y": null,
       "padding": null,
       "right": null,
       "top": null,
       "visibility": null,
       "width": null
      }
     },
     "db0627a0e5294d398453b1d180e936d0": {
      "model_module": "@jupyter-widgets/controls",
      "model_module_version": "1.5.0",
      "model_name": "ProgressStyleModel",
      "state": {
       "_model_module": "@jupyter-widgets/controls",
       "_model_module_version": "1.5.0",
       "_model_name": "ProgressStyleModel",
       "_view_count": null,
       "_view_module": "@jupyter-widgets/base",
       "_view_module_version": "1.2.0",
       "_view_name": "StyleView",
       "bar_color": null,
       "description_width": ""
      }
     },
     "dceab0d4575e42f0a01d490531529b18": {
      "model_module": "@jupyter-widgets/controls",
      "model_module_version": "1.5.0",
      "model_name": "ProgressStyleModel",
      "state": {
       "_model_module": "@jupyter-widgets/controls",
       "_model_module_version": "1.5.0",
       "_model_name": "ProgressStyleModel",
       "_view_count": null,
       "_view_module": "@jupyter-widgets/base",
       "_view_module_version": "1.2.0",
       "_view_name": "StyleView",
       "bar_color": null,
       "description_width": ""
      }
     },
     "e0a333b82aea4a3487f308fe66fa76aa": {
      "model_module": "@jupyter-widgets/controls",
      "model_module_version": "1.5.0",
      "model_name": "HTMLModel",
      "state": {
       "_dom_classes": [],
       "_model_module": "@jupyter-widgets/controls",
       "_model_module_version": "1.5.0",
       "_model_name": "HTMLModel",
       "_view_count": null,
       "_view_module": "@jupyter-widgets/controls",
       "_view_module_version": "1.5.0",
       "_view_name": "HTMLView",
       "description": "",
       "description_tooltip": null,
       "layout": "IPY_MODEL_89066d88faa24b069e6bba82854ce7ac",
       "placeholder": "​",
       "style": "IPY_MODEL_a08d090844214ed78fb3acff0a59f4b0",
       "value": " 5/5 [00:00&lt;00:00, 153.24it/s]"
      }
     },
     "e194ca08c3f14a8f96280bbf1b4d8382": {
      "model_module": "@jupyter-widgets/controls",
      "model_module_version": "1.5.0",
      "model_name": "DescriptionStyleModel",
      "state": {
       "_model_module": "@jupyter-widgets/controls",
       "_model_module_version": "1.5.0",
       "_model_name": "DescriptionStyleModel",
       "_view_count": null,
       "_view_module": "@jupyter-widgets/base",
       "_view_module_version": "1.2.0",
       "_view_name": "StyleView",
       "description_width": ""
      }
     },
     "e1bc352efe1d41fd919b8041452086c6": {
      "model_module": "@jupyter-widgets/controls",
      "model_module_version": "1.5.0",
      "model_name": "HTMLModel",
      "state": {
       "_dom_classes": [],
       "_model_module": "@jupyter-widgets/controls",
       "_model_module_version": "1.5.0",
       "_model_name": "HTMLModel",
       "_view_count": null,
       "_view_module": "@jupyter-widgets/controls",
       "_view_module_version": "1.5.0",
       "_view_name": "HTMLView",
       "description": "",
       "description_tooltip": null,
       "layout": "IPY_MODEL_2ad59ded5ce649e3bf632f186ca26aca",
       "placeholder": "​",
       "style": "IPY_MODEL_65ae0a6e296349fa9dab9a8712ed5719",
       "value": " 7/7 [00:23&lt;00:00,  3.30s/it]"
      }
     },
     "f0ab6f3cdcf2497eb4658e0b526db499": {
      "model_module": "@jupyter-widgets/base",
      "model_module_version": "1.2.0",
      "model_name": "LayoutModel",
      "state": {
       "_model_module": "@jupyter-widgets/base",
       "_model_module_version": "1.2.0",
       "_model_name": "LayoutModel",
       "_view_count": null,
       "_view_module": "@jupyter-widgets/base",
       "_view_module_version": "1.2.0",
       "_view_name": "LayoutView",
       "align_content": null,
       "align_items": null,
       "align_self": null,
       "border": null,
       "bottom": null,
       "display": null,
       "flex": null,
       "flex_flow": null,
       "grid_area": null,
       "grid_auto_columns": null,
       "grid_auto_flow": null,
       "grid_auto_rows": null,
       "grid_column": null,
       "grid_gap": null,
       "grid_row": null,
       "grid_template_areas": null,
       "grid_template_columns": null,
       "grid_template_rows": null,
       "height": null,
       "justify_content": null,
       "justify_items": null,
       "left": null,
       "margin": null,
       "max_height": null,
       "max_width": null,
       "min_height": null,
       "min_width": null,
       "object_fit": null,
       "object_position": null,
       "order": null,
       "overflow": null,
       "overflow_x": null,
       "overflow_y": null,
       "padding": null,
       "right": null,
       "top": null,
       "visibility": null,
       "width": null
      }
     },
     "f51deb8245b148bda8f25f5786899d00": {
      "model_module": "@jupyter-widgets/controls",
      "model_module_version": "1.5.0",
      "model_name": "HBoxModel",
      "state": {
       "_dom_classes": [],
       "_model_module": "@jupyter-widgets/controls",
       "_model_module_version": "1.5.0",
       "_model_name": "HBoxModel",
       "_view_count": null,
       "_view_module": "@jupyter-widgets/controls",
       "_view_module_version": "1.5.0",
       "_view_name": "HBoxView",
       "box_style": "",
       "children": [
        "IPY_MODEL_2b4479f92dc74d978d07b119d4fcf662",
        "IPY_MODEL_c3ed9316ba3b4e08983c28b7ac58be96",
        "IPY_MODEL_09f42c9d9bdf48a0a815a2653ab3c8d7"
       ],
       "layout": "IPY_MODEL_8b17fcec96cd4eea897e0d8a7994181a"
      }
     },
     "f6467c94768a4cf79eac919f967a1bfd": {
      "model_module": "@jupyter-widgets/base",
      "model_module_version": "1.2.0",
      "model_name": "LayoutModel",
      "state": {
       "_model_module": "@jupyter-widgets/base",
       "_model_module_version": "1.2.0",
       "_model_name": "LayoutModel",
       "_view_count": null,
       "_view_module": "@jupyter-widgets/base",
       "_view_module_version": "1.2.0",
       "_view_name": "LayoutView",
       "align_content": null,
       "align_items": null,
       "align_self": null,
       "border": null,
       "bottom": null,
       "display": null,
       "flex": null,
       "flex_flow": null,
       "grid_area": null,
       "grid_auto_columns": null,
       "grid_auto_flow": null,
       "grid_auto_rows": null,
       "grid_column": null,
       "grid_gap": null,
       "grid_row": null,
       "grid_template_areas": null,
       "grid_template_columns": null,
       "grid_template_rows": null,
       "height": null,
       "justify_content": null,
       "justify_items": null,
       "left": null,
       "margin": null,
       "max_height": null,
       "max_width": null,
       "min_height": null,
       "min_width": null,
       "object_fit": null,
       "object_position": null,
       "order": null,
       "overflow": null,
       "overflow_x": null,
       "overflow_y": null,
       "padding": null,
       "right": null,
       "top": null,
       "visibility": null,
       "width": null
      }
     },
     "f7ef44011b93472bb6af203fdbd9b60c": {
      "model_module": "@jupyter-widgets/base",
      "model_module_version": "1.2.0",
      "model_name": "LayoutModel",
      "state": {
       "_model_module": "@jupyter-widgets/base",
       "_model_module_version": "1.2.0",
       "_model_name": "LayoutModel",
       "_view_count": null,
       "_view_module": "@jupyter-widgets/base",
       "_view_module_version": "1.2.0",
       "_view_name": "LayoutView",
       "align_content": null,
       "align_items": null,
       "align_self": null,
       "border": null,
       "bottom": null,
       "display": null,
       "flex": null,
       "flex_flow": null,
       "grid_area": null,
       "grid_auto_columns": null,
       "grid_auto_flow": null,
       "grid_auto_rows": null,
       "grid_column": null,
       "grid_gap": null,
       "grid_row": null,
       "grid_template_areas": null,
       "grid_template_columns": null,
       "grid_template_rows": null,
       "height": null,
       "justify_content": null,
       "justify_items": null,
       "left": null,
       "margin": null,
       "max_height": null,
       "max_width": null,
       "min_height": null,
       "min_width": null,
       "object_fit": null,
       "object_position": null,
       "order": null,
       "overflow": null,
       "overflow_x": null,
       "overflow_y": null,
       "padding": null,
       "right": null,
       "top": null,
       "visibility": null,
       "width": null
      }
     },
     "fde3f4efdb584dddbd5ffe2bd823bf94": {
      "model_module": "@jupyter-widgets/controls",
      "model_module_version": "1.5.0",
      "model_name": "HTMLModel",
      "state": {
       "_dom_classes": [],
       "_model_module": "@jupyter-widgets/controls",
       "_model_module_version": "1.5.0",
       "_model_name": "HTMLModel",
       "_view_count": null,
       "_view_module": "@jupyter-widgets/controls",
       "_view_module_version": "1.5.0",
       "_view_name": "HTMLView",
       "description": "",
       "description_tooltip": null,
       "layout": "IPY_MODEL_7ca7a679a3274669867e27f2b1380bdb",
       "placeholder": "​",
       "style": "IPY_MODEL_1353884296c244e1a8533a4a03049563",
       "value": "100%"
      }
     }
    },
    "version_major": 2,
    "version_minor": 0
   }
  }
 },
 "nbformat": 4,
 "nbformat_minor": 5
}
